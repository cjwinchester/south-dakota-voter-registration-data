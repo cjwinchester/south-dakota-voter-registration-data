{
 "cells": [
  {
   "cell_type": "markdown",
   "id": "6507088a-306a-47d1-97f7-57f3d07ad247",
   "metadata": {},
   "source": [
    "# Parse SD monthly voter registration report\n",
    "\n",
    "Uses:\n",
    "- `requests` to get the PDF from [the Secretary of State's website](https://sdsos.gov/elections-voting/upcoming-elections/voter-registration-totals/voter-registration-by-county.aspx)\n",
    "- `pdfplumber` to parse and validate the data"
   ]
  },
  {
   "cell_type": "code",
   "execution_count": 1,
   "id": "b2b53d3d-b352-40e3-9e9f-b8af14d72735",
   "metadata": {},
   "outputs": [],
   "source": [
    "from io import BytesIO\n",
    "from datetime import datetime\n",
    "import csv\n",
    "from pathlib import Path\n",
    "\n",
    "import requests\n",
    "import pdfplumber"
   ]
  },
  {
   "cell_type": "code",
   "execution_count": 2,
   "id": "3c20d214-6797-4301-bdc4-037cff26fb60",
   "metadata": {},
   "outputs": [],
   "source": [
    "url = 'https://sdsos.gov/elections-voting/assets/StatewideVoterRegistrationTotals/StatewideVotersByCounty_5.1.2025.pdf'\n",
    "req = requests.get(url)"
   ]
  },
  {
   "cell_type": "code",
   "execution_count": 3,
   "id": "be80d888-da26-44bb-baa4-226bfc0314d1",
   "metadata": {},
   "outputs": [],
   "source": [
    "pdf = pdfplumber.open(BytesIO(req.content))"
   ]
  },
  {
   "cell_type": "code",
   "execution_count": 4,
   "id": "75b29825-8e5d-4a99-9bc4-5d5eb05a678b",
   "metadata": {},
   "outputs": [],
   "source": [
    "# assumes a 2-page PDF with a table spanning both pages\n",
    "if len(pdf.pages) != 2:\n",
    "    raise Exception(f'Report page count is {len(pdf.pages)}, not 2 -- check it out: {url}')"
   ]
  },
  {
   "cell_type": "code",
   "execution_count": 5,
   "id": "00eae6d5-a16b-4d97-94aa-1a6d632b2eb7",
   "metadata": {},
   "outputs": [],
   "source": [
    "lines = pdf.pages[0].extract_table() + pdf.pages[1].extract_table()\n",
    "\n",
    "# guarding against some PDFs parsed with an extra column\n",
    "lines = [x[:-1] if not x[-1] else x for x in lines]"
   ]
  },
  {
   "cell_type": "code",
   "execution_count": 6,
   "id": "fcabf216-1de9-4626-8ce4-395e59da2bc7",
   "metadata": {
    "scrolled": true
   },
   "outputs": [
    {
     "data": {
      "text/plain": [
       "[['Statewide Report by County -May 1, 2025',\n",
       "  None,\n",
       "  None,\n",
       "  None,\n",
       "  None,\n",
       "  None,\n",
       "  None,\n",
       "  None,\n",
       "  None],\n",
       " ['County',\n",
       "  'Democratic',\n",
       "  'Libertarian',\n",
       "  'Republican',\n",
       "  'Independent',\n",
       "  'OTH',\n",
       "  'No Party\\nAffiliation',\n",
       "  'No Labels',\n",
       "  'Inactive',\n",
       "  'Total Active'],\n",
       " ['Aurora', '510', '2', '1,000', '232', '2', '100', '1', '102', '1,847'],\n",
       " ['Beadle',\n",
       "  '2,479',\n",
       "  '27',\n",
       "  '5,204',\n",
       "  '1,380',\n",
       "  '40',\n",
       "  '1,192',\n",
       "  '1',\n",
       "  '751',\n",
       "  '10,323'],\n",
       " ['Bennett', '684', '7', '734', '201', '2', '202', '', '186', '1,830'],\n",
       " ['Bon Homme', '875', '12', '2,420', '491', '', '239', '', '283', '4,037'],\n",
       " ['Brookings',\n",
       "  '5,087',\n",
       "  '109',\n",
       "  '10,100',\n",
       "  '3,671',\n",
       "  '21',\n",
       "  '2,862',\n",
       "  '1',\n",
       "  '1570',\n",
       "  '21,851'],\n",
       " ['Brown',\n",
       "  '7,170',\n",
       "  '102',\n",
       "  '13,026',\n",
       "  '3,588',\n",
       "  '11',\n",
       "  '1,994',\n",
       "  '3',\n",
       "  '1082',\n",
       "  '25,894'],\n",
       " ['Brule', '884', '14', '1,768', '459', '4', '220', '', '165', '3,349'],\n",
       " ['Buffalo', '533', '2', '154', '76', '4', '101', '', '116', '870'],\n",
       " ['Butte', '770', '55', '4,642', '874', '21', '658', '', '1329', '7,020'],\n",
       " ['Campbell', '103', '1', '916', '74', '', '47', '', '72', '1,141'],\n",
       " ['Charles Mix', '1,769', '9', '2,742', '591', '', '357', '', '438', '5,468'],\n",
       " ['Clark', '525', '4', '1,665', '262', '', '166', '', '136', '2,622'],\n",
       " ['Clay',\n",
       "  '2,900',\n",
       "  '36',\n",
       "  '3,081',\n",
       "  '1,456',\n",
       "  '13',\n",
       "  '1,160',\n",
       "  '5',\n",
       "  '1215',\n",
       "  '8,651'],\n",
       " ['Codington',\n",
       "  '3,831',\n",
       "  '61',\n",
       "  '10,576',\n",
       "  '2,623',\n",
       "  '26',\n",
       "  '1,979',\n",
       "  '',\n",
       "  '1569',\n",
       "  '19,096'],\n",
       " ['Corson', '964', '5', '757', '285', '3', '301', '', '227', '2,315'],\n",
       " ['Custer', '1,050', '37', '5,195', '1,127', '24', '692', '1', '972', '8,126'],\n",
       " ['Davison',\n",
       "  '2,757',\n",
       "  '32',\n",
       "  '6,931',\n",
       "  '1,902',\n",
       "  '33',\n",
       "  '1,525',\n",
       "  '4',\n",
       "  '1247',\n",
       "  '13,184'],\n",
       " ['Day', '1,240', '12', '1,923', '587', '1', '173', '', '218', '3,936'],\n",
       " ['Deuel', '581', '11', '1,778', '491', '', '294', '1', '119', '3,156'],\n",
       " ['Dewey', '1,787', '4', '780', '423', '2', '417', '', '225', '3,413'],\n",
       " ['Douglas', '200', '1', '1,665', '140', '', '104', '', '108', '2,110'],\n",
       " ['Edmunds', '503', '7', '1,789', '250', '2', '202', '', '139', '2,753'],\n",
       " ['Fall River', '883', '39', '3,987', '901', '2', '700', '1', '392', '6,513'],\n",
       " ['Faulk', '186', '', '1,123', '218', '', '41', '', '58', '1,568'],\n",
       " ['Grant', '1,035', '19', '2,751', '711', '9', '378', '', '332', '4,903'],\n",
       " ['Gregory', '610', '4', '1,869', '346', '', '86', '', '151', '2,915'],\n",
       " ['Haakon', '115', '2', '1,172', '82', '2', '30', '2', '61', '1,405'],\n",
       " ['Hamlin', '538', '7', '3,094', '385', '1', '271', '', '211', '4,296'],\n",
       " ['Hand', '383', '8', '1,663', '189', '4', '54', '', '81', '2,301'],\n",
       " ['Hanson', '591', '6', '1,917', '493', '8', '380', '', '483', '3,395'],\n",
       " ['Harding', '62', '6', '837', '77', '1', '45', '', '46', '1,028'],\n",
       " ['Hughes',\n",
       "  '2,145',\n",
       "  '48',\n",
       "  '7,391',\n",
       "  '1,428',\n",
       "  '19',\n",
       "  '978',\n",
       "  '',\n",
       "  '1018',\n",
       "  '12,009'],\n",
       " ['Hutchinson', '707', '15', '3,447', '534', '8', '336', '', '198', '5,047'],\n",
       " ['Hyde', '150', '1', '662', '93', '', '31', '', '42', '937'],\n",
       " ['Jackson', '577', '6', '917', '171', '1', '175', '', '128', '1,847'],\n",
       " ['Jerauld', '326', '6', '731', '131', '1', '70', '', '66', '1,265'],\n",
       " ['Jones', '63', '1', '523', '58', '', '26', '1', '51', '672'],\n",
       " ['Kingsbury', '651', '8', '2,330', '391', '3', '331', '', '269', '3,714'],\n",
       " ['Lake', '1,899', '26', '4,374', '969', '5', '624', '2', '2121', '7,899'],\n",
       " ['Lawrence',\n",
       "  '3,948',\n",
       "  '182',\n",
       "  '12,406',\n",
       "  '3,315',\n",
       "  '44',\n",
       "  '2,781',\n",
       "  '7',\n",
       "  '2367',\n",
       "  '22,683'],\n",
       " ['Lincoln',\n",
       "  '10,181',\n",
       "  '231',\n",
       "  '25,996',\n",
       "  '7,865',\n",
       "  '80',\n",
       "  '5,413',\n",
       "  '13',\n",
       "  '4904',\n",
       "  '49,779'],\n",
       " ['Lyman', '649', '4', '1,168', '215', '1', '169', '', '111', '2,206'],\n",
       " ['Marshall', '946', '2', '1,316', '381', '2', '178', '', '163', '2,825'],\n",
       " ['McCook', '794', '7', '2,410', '520', '3', '269', '', '143', '4,003'],\n",
       " ['McPherson', '184', '8', '1,325', '130', '1', '71', '', '122', '1,719'],\n",
       " ['Meade',\n",
       "  '2,810',\n",
       "  '156',\n",
       "  '13,089',\n",
       "  '2,870',\n",
       "  '26',\n",
       "  '2,168',\n",
       "  '3',\n",
       "  '1606',\n",
       "  '21,122'],\n",
       " ['Mellette', '414', '1', '496', '189', '', '71', '', '67', '1,171'],\n",
       " ['Miner', '421', '5', '856', '230', '', '115', '', '78', '1,627'],\n",
       " ['Minnehaha',\n",
       "  '36,180',\n",
       "  '741',\n",
       "  '59,669',\n",
       "  '22,768',\n",
       "  '248',\n",
       "  '18,989',\n",
       "  '17',\n",
       "  '16879',\n",
       "  '138,612'],\n",
       " ['Moody', '1,300', '16', '1,979', '709', '4', '430', '2', '203', '4,440'],\n",
       " ['Oglala Lakota',\n",
       "  '5,278',\n",
       "  '18',\n",
       "  '604',\n",
       "  '989',\n",
       "  '1',\n",
       "  '1,268',\n",
       "  '',\n",
       "  '613',\n",
       "  '8,158'],\n",
       " ['Pennington',\n",
       "  '18,072',\n",
       "  '684',\n",
       "  '47,103',\n",
       "  '13,360',\n",
       "  '220',\n",
       "  '12,224',\n",
       "  '27',\n",
       "  '9823',\n",
       "  '91,690'],\n",
       " ['Perkins', '257', '4', '1,573', '195', '4', '160', '', '178', '2,193'],\n",
       " ['Potter', '184', '2', '1,351', '112', '5', '44', '1', '139', '1,699'],\n",
       " ['Roberts', '2,367', '9', '2,277', '942', '18', '635', '', '469', '6,248'],\n",
       " ['Sanborn', '351', '7', '995', '168', '', '124', '1', '59', '1,646'],\n",
       " ['Spink', '980', '8', '2,573', '454', '3', '236', '', '197', '4,254'],\n",
       " ['Stanley', '332', '7', '1,587', '194', '', '125', '', '192', '2,245'],\n",
       " ['Sully', '158', '4', '840', '110', '', '37', '', '68', '1,149'],\n",
       " ['Todd', '2,754', '7', '680', '591', '6', '575', '', '729', '4,613'],\n",
       " ['Tripp', '554', '5', '2,454', '349', '7', '230', '', '370', '3,599'],\n",
       " ['Turner', '1,117', '15', '3,683', '903', '2', '376', '', '226', '6,096'],\n",
       " ['Union',\n",
       "  '2,316',\n",
       "  '44',\n",
       "  '6,705',\n",
       "  '2,228',\n",
       "  '9',\n",
       "  '1,508',\n",
       "  '2',\n",
       "  '2175',\n",
       "  '12,812'],\n",
       " ['Walworth', '575', '9', '2,484', '337', '11', '277', '', '463', '3,693'],\n",
       " ['Yankton',\n",
       "  '3,455',\n",
       "  '60',\n",
       "  '7,514',\n",
       "  '2,538',\n",
       "  '17',\n",
       "  '1,360',\n",
       "  '1',\n",
       "  '1533',\n",
       "  '14,945'],\n",
       " ['Ziebach', '738', '5', '429', '176', '1', '251', '', '93', '1,600'],\n",
       " ['Total',\n",
       "  '145,438',\n",
       "  '2,993',\n",
       "  '321,196',\n",
       "  '91,198',\n",
       "  '986',\n",
       "  '69,625',\n",
       "  '97',\n",
       "  '61,947',\n",
       "  '631,533'],\n",
       " [\"Independent (IND) / No Party Affiliation (NPA) – South Dakota does not have an Independent Party. If a person completes a registration card to change that person's name,\\naddress, phone number, or email address, and leaves the field for party affiliation blank, the county auditor must list the person's party affiliation as the most recent party affiliation\\nregistered for that person. If a person completes a registration card to register to vote for the first time in the state and leaves the field for party affiliation blank, the county auditor must\\nregister that person's party affiliation as no party affiliation.\",\n",
       "  None,\n",
       "  None,\n",
       "  None,\n",
       "  None,\n",
       "  None,\n",
       "  None,\n",
       "  None,\n",
       "  None],\n",
       " ['SDCL 12-1-3 (22) and SDCL 12-4-5',\n",
       "  None,\n",
       "  None,\n",
       "  None,\n",
       "  None,\n",
       "  None,\n",
       "  None,\n",
       "  None,\n",
       "  None],\n",
       " ['OTHER – This category is for voters who write any other political party on their voter registration form that is not currently a recognized political party in South Dakota.',\n",
       "  None,\n",
       "  None,\n",
       "  None,\n",
       "  None,\n",
       "  None,\n",
       "  None,\n",
       "  None,\n",
       "  None],\n",
       " ['NOTE - The South Dakota Democratic Party has opened their primary election up for all voters registered as independent/no party affiliation to vote in their primary. Voters registered\\nin the “other” category are not allowed to vote in the SD Democratic Party primary.',\n",
       "  None,\n",
       "  None,\n",
       "  None,\n",
       "  None,\n",
       "  None,\n",
       "  None,\n",
       "  None,\n",
       "  None],\n",
       " ['The Libertarian Party became a recognized party on June 17, 2016.',\n",
       "  None,\n",
       "  None,\n",
       "  None,\n",
       "  None,\n",
       "  None,\n",
       "  None,\n",
       "  None,\n",
       "  None],\n",
       " ['The Constitution Party became a recognized party on March 31, 2016. By statutes SDCL 12-5-1.5 and 12-1-3, the Constitution Party lost party status on November 14, 2018. The No\\nLabels Party became a recognized party on August 4, 2023.',\n",
       "  None,\n",
       "  None,\n",
       "  None,\n",
       "  None,\n",
       "  None,\n",
       "  None,\n",
       "  None,\n",
       "  None]]"
      ]
     },
     "execution_count": 6,
     "metadata": {},
     "output_type": "execute_result"
    }
   ],
   "source": [
    "lines"
   ]
  },
  {
   "cell_type": "code",
   "execution_count": 7,
   "id": "e6cd53a9-2f58-402a-9b1a-5e5c9b3046dd",
   "metadata": {},
   "outputs": [],
   "source": [
    "# report date is in the first line\n",
    "report_date = lines.pop(0)"
   ]
  },
  {
   "cell_type": "code",
   "execution_count": 8,
   "id": "9b5d3f66-568d-4d26-a0f4-d8600ae0af9e",
   "metadata": {},
   "outputs": [
    {
     "name": "stdout",
     "output_type": "stream",
     "text": [
      "2025-05-01\n"
     ]
    }
   ],
   "source": [
    "report_date = report_date[0].split('-')[-1].strip()\n",
    "report_date = datetime.strptime(report_date, '%B %d, %Y').date().isoformat()\n",
    "\n",
    "print(report_date)"
   ]
  },
  {
   "cell_type": "code",
   "execution_count": 9,
   "id": "6fdeee0c-061a-4977-8194-8e88e8a8deee",
   "metadata": {},
   "outputs": [
    {
     "name": "stdout",
     "output_type": "stream",
     "text": [
      "Wrote pdfs/2025-05-01.pdf\n"
     ]
    }
   ],
   "source": [
    "# save the PDF\n",
    "outpath = Path('pdfs') / f'{report_date}.pdf'\n",
    "\n",
    "with open(outpath, 'wb') as outfile:\n",
    "    outfile.write(req.content)\n",
    "\n",
    "print(f'Wrote {outpath}')"
   ]
  },
  {
   "cell_type": "code",
   "execution_count": 10,
   "id": "2e5d21b2-be5d-4d9e-998c-d01c4df2af11",
   "metadata": {},
   "outputs": [],
   "source": [
    "# standardizing column names\n",
    "column_fixes = {\n",
    "    'oth': 'other',\n",
    "    'no party\\naffiliation': 'npa',\n",
    "    'no labels': 'no_labels',\n",
    "    'npa/ind': 'npa_ind'\n",
    "}"
   ]
  },
  {
   "cell_type": "code",
   "execution_count": 11,
   "id": "2be7ac8a-fe25-403d-a49b-9bd91ff4639b",
   "metadata": {},
   "outputs": [],
   "source": [
    "# headers are in the first line of the data table\n",
    "headers = lines.pop(0)\n",
    "headers = [column_fixes.get(x.lower(), x.lower()) for x in headers]"
   ]
  },
  {
   "cell_type": "code",
   "execution_count": 12,
   "id": "b8f74e2e-38b0-46d3-9de5-fa9d344a43d7",
   "metadata": {},
   "outputs": [
    {
     "data": {
      "text/plain": [
       "['county',\n",
       " 'democratic',\n",
       " 'libertarian',\n",
       " 'republican',\n",
       " 'independent',\n",
       " 'other',\n",
       " 'npa',\n",
       " 'no_labels',\n",
       " 'inactive',\n",
       " 'total active']"
      ]
     },
     "execution_count": 12,
     "metadata": {},
     "output_type": "execute_result"
    }
   ],
   "source": [
    "headers"
   ]
  },
  {
   "cell_type": "code",
   "execution_count": 13,
   "id": "87b4e954-d9ec-49b8-b6e3-fc53040bce60",
   "metadata": {
    "scrolled": true
   },
   "outputs": [],
   "source": [
    "data = []\n",
    "\n",
    "# loop over the remaining lines\n",
    "for line in lines:\n",
    "\n",
    "    first_cell = line[0].lower()\n",
    "\n",
    "    # skip lines if repeated headers\n",
    "    if 'statewide' in first_cell or 'county' in first_cell:\n",
    "        continue\n",
    "\n",
    "    # the 'Total' line in the table means we're done\n",
    "    if 'total' in first_cell:\n",
    "        break\n",
    "\n",
    "    # check that the number of values matches the number of headers\n",
    "    assert(len(line) == len(headers))\n",
    "\n",
    "    # zip it up into a dict\n",
    "    county_data = dict(zip(headers, line))\n",
    "\n",
    "    # delete the aggregate value totaling everything up\n",
    "    del county_data['total active']\n",
    "\n",
    "    # cast number strings to integers\n",
    "    for key in county_data:\n",
    "        if key == 'county' or not county_data[key]:\n",
    "            continue\n",
    "\n",
    "        county_data[key] = int(county_data[key].replace(',', ''))\n",
    "\n",
    "    # add the report date\n",
    "    county_data['date'] = report_date\n",
    "    data.append(county_data)"
   ]
  },
  {
   "cell_type": "code",
   "execution_count": 14,
   "id": "6571d1b4-ba88-4b3b-9fce-0f9cdd6721d1",
   "metadata": {},
   "outputs": [],
   "source": [
    "# doublecheck: 66 counties in SD\n",
    "assert(len(data) == 66)"
   ]
  },
  {
   "cell_type": "code",
   "execution_count": 15,
   "id": "25fe47d7-bd47-46f5-b4bf-b2972e761421",
   "metadata": {},
   "outputs": [
    {
     "data": {
      "text/plain": [
       "{'county': 'Aurora',\n",
       " 'democratic': 510,\n",
       " 'libertarian': 2,\n",
       " 'republican': 1000,\n",
       " 'independent': 232,\n",
       " 'other': 2,\n",
       " 'npa': 100,\n",
       " 'no_labels': 1,\n",
       " 'inactive': 102,\n",
       " 'date': '2025-05-01'}"
      ]
     },
     "execution_count": 15,
     "metadata": {},
     "output_type": "execute_result"
    }
   ],
   "source": [
    "data[0]"
   ]
  },
  {
   "cell_type": "code",
   "execution_count": 16,
   "id": "1cb251c3-ef9f-4898-9bc7-02b3230b52b9",
   "metadata": {},
   "outputs": [],
   "source": [
    "# shift 'date' to the beginning of headers list for the output CSV\n",
    "csv_headers = list(data[0].keys())\n",
    "csv_headers = csv_headers[-1:] + csv_headers[:-1]"
   ]
  },
  {
   "cell_type": "code",
   "execution_count": 17,
   "id": "1ddeeb67-a213-45bc-bffe-10b25ebad375",
   "metadata": {},
   "outputs": [
    {
     "name": "stdout",
     "output_type": "stream",
     "text": [
      "Wrote file: /Users/cjwinchester/sd-voter-registration-data/data/2025-05-01.csv\n"
     ]
    }
   ],
   "source": [
    "# write to file\n",
    "filepath = (Path('data') / f'{report_date}.csv').resolve()\n",
    "\n",
    "with open(filepath, 'w') as outfile:\n",
    "    writer = csv.DictWriter(\n",
    "        outfile,\n",
    "        fieldnames=csv_headers\n",
    "    )\n",
    "\n",
    "    writer.writeheader()\n",
    "    writer.writerows(data)\n",
    "\n",
    "    print(f'Wrote file: {filepath}')"
   ]
  },
  {
   "cell_type": "code",
   "execution_count": 18,
   "id": "d7b2a96f-de03-4cb9-b420-620aea8e3f46",
   "metadata": {},
   "outputs": [
    {
     "name": "stdout",
     "output_type": "stream",
     "text": [
      "Party list: americans_elect, constitution, democratic, inactive, independent, libertarian, no_labels, npa, npa_ind, npa_ind_oth, other, reform, republican\n",
      "--------------------\n",
      "Wrote sd-voter-registration-data.csv\n",
      "Wrote sd-voter-registration-data-simplified.csv\n",
      "Wrote README.md\n"
     ]
    }
   ],
   "source": [
    "%run build_files.py"
   ]
  }
 ],
 "metadata": {
  "kernelspec": {
   "display_name": "Python 3 (ipykernel)",
   "language": "python",
   "name": "python3"
  },
  "language_info": {
   "codemirror_mode": {
    "name": "ipython",
    "version": 3
   },
   "file_extension": ".py",
   "mimetype": "text/x-python",
   "name": "python",
   "nbconvert_exporter": "python",
   "pygments_lexer": "ipython3",
   "version": "3.12.9"
  }
 },
 "nbformat": 4,
 "nbformat_minor": 5
}
