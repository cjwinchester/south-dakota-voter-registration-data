{
 "cells": [
  {
   "cell_type": "markdown",
   "id": "6507088a-306a-47d1-97f7-57f3d07ad247",
   "metadata": {},
   "source": [
    "# Parse SD monthly voter registration report\n",
    "\n",
    "Uses:\n",
    "- `requests` to get the PDF from [the Secretary of State's website](https://sdsos.gov/elections-voting/upcoming-elections/voter-registration-totals/voter-registration-by-county.aspx)\n",
    "- `pdfplumber` to parse and validate the data"
   ]
  },
  {
   "cell_type": "code",
   "execution_count": 21,
   "id": "b2b53d3d-b352-40e3-9e9f-b8af14d72735",
   "metadata": {},
   "outputs": [],
   "source": [
    "from io import BytesIO\n",
    "from datetime import datetime\n",
    "import csv\n",
    "from pathlib import Path\n",
    "\n",
    "import requests\n",
    "import pdfplumber"
   ]
  },
  {
   "cell_type": "code",
   "execution_count": 22,
   "id": "3c20d214-6797-4301-bdc4-037cff26fb60",
   "metadata": {},
   "outputs": [],
   "source": [
    "url = 'https://sdsos.gov/elections-voting/assets/StatewideVoterRegistrationTotals/StatewideVotersByCounty_11.6.2018.pdf'\n",
    "req = requests.get(url)"
   ]
  },
  {
   "cell_type": "code",
   "execution_count": 23,
   "id": "be80d888-da26-44bb-baa4-226bfc0314d1",
   "metadata": {},
   "outputs": [],
   "source": [
    "pdf = pdfplumber.open(BytesIO(req.content))"
   ]
  },
  {
   "cell_type": "code",
   "execution_count": 24,
   "id": "75b29825-8e5d-4a99-9bc4-5d5eb05a678b",
   "metadata": {},
   "outputs": [],
   "source": [
    "# assumes a 2-page PDF with a table spanning both pages\n",
    "if len(pdf.pages) != 2:\n",
    "    raise Exception(f'Report page count is {len(pdf.pages)}, not 2 -- check it out: {url}')"
   ]
  },
  {
   "cell_type": "code",
   "execution_count": 25,
   "id": "00eae6d5-a16b-4d97-94aa-1a6d632b2eb7",
   "metadata": {},
   "outputs": [],
   "source": [
    "lines = pdf.pages[0].extract_table() + pdf.pages[1].extract_table()\n",
    "\n",
    "# guarding against some PDFs parsed with an extra column\n",
    "lines = [x[:-1] if not x[-1] else x for x in lines]"
   ]
  },
  {
   "cell_type": "code",
   "execution_count": 26,
   "id": "fcabf216-1de9-4626-8ce4-395e59da2bc7",
   "metadata": {
    "scrolled": true
   },
   "outputs": [
    {
     "data": {
      "text/plain": [
       "[['Statewide Report by County - November 6, 2018',\n",
       "  None,\n",
       "  None,\n",
       "  None,\n",
       "  None,\n",
       "  None,\n",
       "  None,\n",
       "  None],\n",
       " ['County',\n",
       "  'Libertarian',\n",
       "  'Republican',\n",
       "  'Democratic',\n",
       "  'NPA/IND',\n",
       "  'Constitution',\n",
       "  'OTH',\n",
       "  'Inactive',\n",
       "  'Total Active'],\n",
       " ['Aurora', '1', '794', '739', '267', '', '4', '88', '1,805'],\n",
       " ['Beadle', '16', '4,327', '3,292', '2,153', '5', '39', '1,033', '9,832'],\n",
       " ['Bennett', '2', '686', '816', '338', '', '2', '211', '1,844'],\n",
       " ['Bon Homme', '11', '2,077', '1,240', '607', '2', '', '296', '3,937'],\n",
       " ['Brookings', '70', '7,717', '5,220', '5,328', '27', '22', '1,689', '18,384'],\n",
       " ['Brown', '62', '10,406', '8,234', '4,295', '7', '40', '2,358', '23,044'],\n",
       " ['Brule', '10', '1,462', '1,191', '568', '5', '2', '216', '3,238'],\n",
       " ['Buffalo', '1', '169', '627', '138', '', '1', '77', '936'],\n",
       " ['Butte', '31', '3,888', '972', '1,302', '9', '5', '954', '6,207'],\n",
       " ['Campbell', '', '908', '120', '84', '', '', '119', '1,112'],\n",
       " ['Charles Mix', '3', '2,375', '2,414', '889', '2', '', '410', '5,683'],\n",
       " ['Clark', '3', '1,385', '717', '375', '3', '2', '196', '2,485'],\n",
       " ['Clay', '36', '2,447', '2,931', '2,226', '3', '10', '896', '7,653'],\n",
       " ['Codington', '29', '8,188', '4,744', '3,690', '13', '25', '1,679', '16,689'],\n",
       " ['Corson', '8', '651', '1,195', '465', '2', '7', '246', '2,328'],\n",
       " ['Custer', '23', '3,894', '1,151', '1,430', '10', '21', '802', '6,529'],\n",
       " ['Davison', '20', '5,440', '3,280', '2,494', '3', '28', '1,158', '11,265'],\n",
       " ['Day', '11', '1,536', '1,761', '660', '2', '12', '273', '3,982'],\n",
       " ['Deuel', '9', '1,347', '812', '688', '7', '', '276', '2,863'],\n",
       " ['Dewey', '3', '728', '2,068', '585', '', '7', '195', '3,391'],\n",
       " ['Douglas', '2', '1,582', '316', '203', '', '', '146', '2,103'],\n",
       " ['Edmunds', '8', '1,494', '776', '409', '', '4', '179', '2,691'],\n",
       " ['Fall River', '23', '2,987', '950', '1,202', '4', '23', '600', '5,189'],\n",
       " ['Faulk', '', '1,042', '280', '248', '1', '', '88', '1,571'],\n",
       " ['Grant', '9', '2,315', '1,416', '946', '2', '11', '539', '4,699'],\n",
       " ['Gregory', '5', '1,551', '913', '336', '2', '', '125', '2,807'],\n",
       " ['Haakon', '2', '1,064', '180', '137', '1', '1', '37', '1,385'],\n",
       " ['Hamlin', '2', '2,538', '728', '565', '', '2', '259', '3,835'],\n",
       " ['Hand', '3', '1,452', '620', '255', '1', '1', '124', '2,332'],\n",
       " ['Hanson', '3', '1,614', '809', '743', '3', '2', '557', '3,174'],\n",
       " ['Harding', '2', '774', '102', '82', '', '', '67', '960'],\n",
       " ['Hughes', '43', '6,963', '2,369', '1,874', '4', '18', '802', '11,271'],\n",
       " ['Hutchinson', '3', '3,271', '1,023', '723', '7', '3', '167', '5,030'],\n",
       " ['Hyde', '', '660', '206', '102', '', '3', '86', '971'],\n",
       " ['Jackson', '6', '830', '655', '302', '1', '12', '145', '1,806'],\n",
       " ['Jerauld', '3', '628', '465', '193', '1', '', '43', '1,290'],\n",
       " ['Jones', '1', '508', '89', '90', '', '', '34', '688'],\n",
       " ['Kingsbury', '11', '1,961', '925', '585', '', '1', '207', '3,483'],\n",
       " ['Lake', '35', '4,545', '2,759', '2,301', '3', '6', '1,046', '9,649'],\n",
       " ['Lawrence', '101', '9,097', '3,697', '3,982', '11', '19', '2,083', '16,907'],\n",
       " ['Lincoln', '117', '18,286', '8,907', '9,437', '34', '33', '2,979', '36,814'],\n",
       " ['Lyman', '6', '1,123', '824', '281', '', '1', '140', '2,235'],\n",
       " ['Marshall', '8', '1,087', '1,186', '508', '', '1', '199', '2,790'],\n",
       " ['McCook', '11', '1,826', '1,052', '729', '6', '', '253', '3,624'],\n",
       " ['McPherson', '8', '1,257', '269', '225', '', '1', '116', '1,760'],\n",
       " ['Meade', '88', '9,966', '3,036', '3,843', '31', '9', '1,543', '16,973'],\n",
       " ['Mellette', '1', '484', '483', '157', '1', '', '132', '1,126'],\n",
       " ['Miner', '2', '622', '620', '312', '2', '1', '68', '1,559'],\n",
       " ['Minnehaha',\n",
       "  '449',\n",
       "  '46,887',\n",
       "  '36,204',\n",
       "  '31,876',\n",
       "  '138',\n",
       "  '170',\n",
       "  '14,675',\n",
       "  '115,724'],\n",
       " ['Moody', '6', '1,516', '1,591', '957', '4', '4', '353', '4,078'],\n",
       " ['Oglala Lakota', '11', '518', '5,478', '1,855', '2', '50', '859', '7,914'],\n",
       " ['Pennington',\n",
       "  '384',\n",
       "  '35,329',\n",
       "  '16,506',\n",
       "  '19,623',\n",
       "  '94',\n",
       "  '150',\n",
       "  '7,733',\n",
       "  '72,086'],\n",
       " ['Perkins', '5', '1,388', '394', '344', '3', '5', '164', '2,139'],\n",
       " ['Potter', '1', '1,318', '284', '147', '2', '2', '103', '1,754'],\n",
       " ['Roberts', '9', '1,974', '3,073', '1,320', '4', '17', '627', '6,397'],\n",
       " ['Sanborn', '3', '838', '474', '227', '1', '2', '78', '1,545'],\n",
       " ['Spink', '5', '2,157', '1,341', '635', '', '4', '323', '4,142'],\n",
       " ['Stanley', '2', '1,372', '449', '280', '2', '', '129', '2,105'],\n",
       " ['Sully', '', '756', '211', '120', '', '1', '51', '1,088'],\n",
       " ['Todd', '3', '685', '2,990', '922', '4', '6', '710', '4,610'],\n",
       " ['Tripp', '3', '2,231', '914', '548', '8', '1', '298', '3,705'],\n",
       " ['Turner', '8', '3,095', '1,417', '1,110', '2', '11', '306', '5,643'],\n",
       " ['Union', '24', '5,443', '2,730', '3,177', '11', '11', '1,478', '11,396'],\n",
       " ['Walworth', '8', '2,435', '765', '484', '4', '3', '304', '3,699'],\n",
       " ['Yankton', '57', '6,214', '4,078', '3,378', '5', '14', '1,156', '13,746'],\n",
       " ['Ziebach', '5', '394', '894', '311', '', '4', '138', '1,608'],\n",
       " ['Total',\n",
       "  '1,835',\n",
       "  '256,502',\n",
       "  '158,972',\n",
       "  '126,666',\n",
       "  '499',\n",
       "  '834',\n",
       "  '55,421',\n",
       "  '545,308'],\n",
       " ['Independent (IND) / No Party Affiliation (NPA) – these two categories are one in the same. When a voter writes Independent, I, Ind, no\\nparty affiliation, NPA, no party, no choice, none, non-partisan, line crossed off or the field is blank in the \"Choice of Party\" field on the voter\\nregistration form. (South Dakota does not have an Independent party)',\n",
       "  None,\n",
       "  None,\n",
       "  None,\n",
       "  None,\n",
       "  None,\n",
       "  None,\n",
       "  None],\n",
       " ['OTHER – This category is for voters who write any other political party on their voter registration form that is not currently a recognized\\npolitical party in South Dakota.',\n",
       "  None,\n",
       "  None,\n",
       "  None,\n",
       "  None,\n",
       "  None,\n",
       "  None,\n",
       "  None],\n",
       " ['NOTE - The South Dakota Democratic Party has opened their primary election up for all voters registered as independent/no party\\naffiliation to vote in their primary. Voters registered in the “other” category are not allowed to vote in the SD Democratic Party primary.',\n",
       "  None,\n",
       "  None,\n",
       "  None,\n",
       "  None,\n",
       "  None,\n",
       "  None,\n",
       "  None],\n",
       " ['The Constitution party became a recognized party on March 31, 2016.',\n",
       "  None,\n",
       "  None,\n",
       "  None,\n",
       "  None,\n",
       "  None,\n",
       "  None,\n",
       "  None],\n",
       " ['The Libertarian party became a recognized party on June 17, 2016.',\n",
       "  None,\n",
       "  None,\n",
       "  None,\n",
       "  None,\n",
       "  None,\n",
       "  None,\n",
       "  None]]"
      ]
     },
     "execution_count": 26,
     "metadata": {},
     "output_type": "execute_result"
    }
   ],
   "source": [
    "lines"
   ]
  },
  {
   "cell_type": "code",
   "execution_count": 27,
   "id": "e6cd53a9-2f58-402a-9b1a-5e5c9b3046dd",
   "metadata": {},
   "outputs": [],
   "source": [
    "# report date is in the first line\n",
    "report_date = lines.pop(0)"
   ]
  },
  {
   "cell_type": "code",
   "execution_count": 28,
   "id": "9b5d3f66-568d-4d26-a0f4-d8600ae0af9e",
   "metadata": {},
   "outputs": [
    {
     "name": "stdout",
     "output_type": "stream",
     "text": [
      "2018-11-06\n"
     ]
    }
   ],
   "source": [
    "report_date = report_date[0].split('-')[-1].strip()\n",
    "report_date = datetime.strptime(report_date, '%B %d, %Y').date().isoformat()\n",
    "\n",
    "print(report_date)"
   ]
  },
  {
   "cell_type": "code",
   "execution_count": 29,
   "id": "6fdeee0c-061a-4977-8194-8e88e8a8deee",
   "metadata": {},
   "outputs": [
    {
     "name": "stdout",
     "output_type": "stream",
     "text": [
      "Wrote /Users/laurelwinchester/south-dakota-voter-registration-data/pdfs/2018-11-06.pdf\n"
     ]
    }
   ],
   "source": [
    "# save the PDF\n",
    "outpath = (Path('pdfs') / f'{report_date}.pdf').resolve()\n",
    "\n",
    "with open(outpath, 'wb') as outfile:\n",
    "    outfile.write(req.content)\n",
    "\n",
    "print(f'Wrote {outpath}')"
   ]
  },
  {
   "cell_type": "code",
   "execution_count": 30,
   "id": "2e5d21b2-be5d-4d9e-998c-d01c4df2af11",
   "metadata": {},
   "outputs": [],
   "source": [
    "# standardizing column names\n",
    "column_fixes = {\n",
    "    'oth': 'other',\n",
    "    'no party\\naffiliation': 'npa',\n",
    "    'no labels': 'no_labels',\n",
    "    'npa/ind': 'npa_ind'\n",
    "}"
   ]
  },
  {
   "cell_type": "code",
   "execution_count": 31,
   "id": "2be7ac8a-fe25-403d-a49b-9bd91ff4639b",
   "metadata": {},
   "outputs": [],
   "source": [
    "# headers are in the first line of the data table\n",
    "headers = lines.pop(0)\n",
    "headers = [column_fixes.get(x.lower(), x.lower()) for x in headers]"
   ]
  },
  {
   "cell_type": "code",
   "execution_count": 32,
   "id": "b8f74e2e-38b0-46d3-9de5-fa9d344a43d7",
   "metadata": {},
   "outputs": [
    {
     "data": {
      "text/plain": [
       "['county',\n",
       " 'libertarian',\n",
       " 'republican',\n",
       " 'democratic',\n",
       " 'npa_ind',\n",
       " 'constitution',\n",
       " 'other',\n",
       " 'inactive',\n",
       " 'total active']"
      ]
     },
     "execution_count": 32,
     "metadata": {},
     "output_type": "execute_result"
    }
   ],
   "source": [
    "headers"
   ]
  },
  {
   "cell_type": "code",
   "execution_count": 33,
   "id": "87b4e954-d9ec-49b8-b6e3-fc53040bce60",
   "metadata": {
    "scrolled": true
   },
   "outputs": [],
   "source": [
    "data = []\n",
    "\n",
    "# loop over the remaining lines\n",
    "for line in lines:\n",
    "\n",
    "    first_cell = line[0].lower()\n",
    "\n",
    "    # skip lines if repeated headers\n",
    "    if 'statewide' in first_cell or 'county' in first_cell:\n",
    "        continue\n",
    "\n",
    "    # the 'Total' line in the table means we're done\n",
    "    if 'total' in first_cell:\n",
    "        break\n",
    "\n",
    "    # check that the number of values matches the number of headers\n",
    "    assert(len(line) == len(headers))\n",
    "\n",
    "    # zip it up into a dict\n",
    "    county_data = dict(zip(headers, line))\n",
    "\n",
    "    # delete the aggregate value totaling everything up\n",
    "    del county_data['total active']\n",
    "\n",
    "    # cast number strings to integers\n",
    "    for key in county_data:\n",
    "        if key == 'county' or not county_data[key]:\n",
    "            continue\n",
    "\n",
    "        county_data[key] = int(county_data[key].replace(',', ''))\n",
    "\n",
    "    # add the report date\n",
    "    county_data['date'] = report_date\n",
    "    data.append(county_data)"
   ]
  },
  {
   "cell_type": "code",
   "execution_count": 34,
   "id": "6571d1b4-ba88-4b3b-9fce-0f9cdd6721d1",
   "metadata": {},
   "outputs": [],
   "source": [
    "# doublecheck: 66 counties in SD\n",
    "assert(len(data) == 66)"
   ]
  },
  {
   "cell_type": "code",
   "execution_count": 35,
   "id": "25fe47d7-bd47-46f5-b4bf-b2972e761421",
   "metadata": {},
   "outputs": [
    {
     "data": {
      "text/plain": [
       "{'county': 'Aurora',\n",
       " 'libertarian': 1,\n",
       " 'republican': 794,\n",
       " 'democratic': 739,\n",
       " 'npa_ind': 267,\n",
       " 'constitution': '',\n",
       " 'other': 4,\n",
       " 'inactive': 88,\n",
       " 'date': '2018-11-06'}"
      ]
     },
     "execution_count": 35,
     "metadata": {},
     "output_type": "execute_result"
    }
   ],
   "source": [
    "data[0]"
   ]
  },
  {
   "cell_type": "code",
   "execution_count": 36,
   "id": "1cb251c3-ef9f-4898-9bc7-02b3230b52b9",
   "metadata": {},
   "outputs": [],
   "source": [
    "# shift 'date' to the beginning of headers list for the output CSV\n",
    "csv_headers = list(data[0].keys())\n",
    "csv_headers = csv_headers[-1:] + csv_headers[:-1]"
   ]
  },
  {
   "cell_type": "code",
   "execution_count": 37,
   "id": "1ddeeb67-a213-45bc-bffe-10b25ebad375",
   "metadata": {},
   "outputs": [
    {
     "name": "stdout",
     "output_type": "stream",
     "text": [
      "Wrote file: /Users/laurelwinchester/south-dakota-voter-registration-data/data/2018-11-06.csv\n"
     ]
    }
   ],
   "source": [
    "# write to file\n",
    "filepath = (Path('data') / f'{report_date}.csv').resolve()\n",
    "\n",
    "with open(filepath, 'w') as outfile:\n",
    "    writer = csv.DictWriter(\n",
    "        outfile,\n",
    "        fieldnames=csv_headers\n",
    "    )\n",
    "\n",
    "    writer.writeheader()\n",
    "    writer.writerows(data)\n",
    "\n",
    "    print(f'Wrote file: {filepath}')"
   ]
  },
  {
   "cell_type": "code",
   "execution_count": 38,
   "id": "d7b2a96f-de03-4cb9-b420-620aea8e3f46",
   "metadata": {},
   "outputs": [
    {
     "name": "stdout",
     "output_type": "stream",
     "text": [
      "Party list: americans_elect, constitution, democratic, inactive, independent, libertarian, no_labels, npa, npa_ind, npa_ind_oth, other, reform, republican\n",
      "--------------------\n",
      "Wrote sd-voter-registration-data.csv\n",
      "Wrote sd-voter-registration-data-simplified.csv\n",
      "Wrote README.md\n"
     ]
    }
   ],
   "source": [
    "%run build_files.py"
   ]
  },
  {
   "cell_type": "code",
   "execution_count": null,
   "id": "d4bf0181-950a-46e7-8686-0ff0fc90064e",
   "metadata": {},
   "outputs": [],
   "source": []
  }
 ],
 "metadata": {
  "kernelspec": {
   "display_name": "Python 3 (ipykernel)",
   "language": "python",
   "name": "python3"
  },
  "language_info": {
   "codemirror_mode": {
    "name": "ipython",
    "version": 3
   },
   "file_extension": ".py",
   "mimetype": "text/x-python",
   "name": "python",
   "nbconvert_exporter": "python",
   "pygments_lexer": "ipython3",
   "version": "3.13.2"
  }
 },
 "nbformat": 4,
 "nbformat_minor": 5
}
