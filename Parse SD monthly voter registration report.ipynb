{
 "cells": [
  {
   "cell_type": "markdown",
   "id": "6507088a-306a-47d1-97f7-57f3d07ad247",
   "metadata": {},
   "source": [
    "# Parse SD monthly voter registration report\n",
    "\n",
    "Uses:\n",
    "- `requests` to get the PDF from [the Secretary of State's website](https://sdsos.gov/elections-voting/upcoming-elections/voter-registration-totals/voter-registration-by-county.aspx)\n",
    "- `pdfplumber` to parse and validate the data"
   ]
  },
  {
   "cell_type": "code",
   "execution_count": 1,
   "id": "b2b53d3d-b352-40e3-9e9f-b8af14d72735",
   "metadata": {},
   "outputs": [],
   "source": [
    "from io import BytesIO\n",
    "from datetime import datetime\n",
    "import csv\n",
    "from pathlib import Path\n",
    "\n",
    "import requests\n",
    "import pdfplumber"
   ]
  },
  {
   "cell_type": "code",
   "execution_count": 2,
   "id": "3c20d214-6797-4301-bdc4-037cff26fb60",
   "metadata": {},
   "outputs": [],
   "source": [
    "url = 'https://sdsos.gov/elections-voting/assets/StatewideVoterRegistrationTotals/StatewideVotersByCounty_3.3.2025.pdf'\n",
    "req = requests.get(url)"
   ]
  },
  {
   "cell_type": "code",
   "execution_count": 3,
   "id": "be80d888-da26-44bb-baa4-226bfc0314d1",
   "metadata": {},
   "outputs": [],
   "source": [
    "pdf = pdfplumber.open(BytesIO(req.content))"
   ]
  },
  {
   "cell_type": "code",
   "execution_count": 4,
   "id": "75b29825-8e5d-4a99-9bc4-5d5eb05a678b",
   "metadata": {},
   "outputs": [],
   "source": [
    "# assumes a 2-page PDF with a table spanning both pages\n",
    "if len(pdf.pages) != 2:\n",
    "    raise Exception(f'Report page count is {len(pdf.pages)}, not 2 -- check it out: {url}')"
   ]
  },
  {
   "cell_type": "code",
   "execution_count": 5,
   "id": "00eae6d5-a16b-4d97-94aa-1a6d632b2eb7",
   "metadata": {},
   "outputs": [],
   "source": [
    "lines = pdf.pages[0].extract_table() + pdf.pages[1].extract_table()\n",
    "\n",
    "# guarding against some PDFs parsed with an extra column\n",
    "lines = [x[:-1] if not x[-1] else x for x in lines]"
   ]
  },
  {
   "cell_type": "code",
   "execution_count": 6,
   "id": "fcabf216-1de9-4626-8ce4-395e59da2bc7",
   "metadata": {
    "scrolled": true
   },
   "outputs": [
    {
     "data": {
      "text/plain": [
       "[['Statewide Report by County -March 3, 2025',\n",
       "  None,\n",
       "  None,\n",
       "  None,\n",
       "  None,\n",
       "  None,\n",
       "  None,\n",
       "  None,\n",
       "  None],\n",
       " ['County',\n",
       "  'Democratic',\n",
       "  'Libertarian',\n",
       "  'Republican',\n",
       "  'Independent',\n",
       "  'OTH',\n",
       "  'No Party\\nAffiliation',\n",
       "  'No Labels',\n",
       "  'Inactive',\n",
       "  'Total Active'],\n",
       " ['Aurora', '515', '2', '987', '233', '2', '101', '', '103', '1,840'],\n",
       " ['Beadle',\n",
       "  '2,488',\n",
       "  '26',\n",
       "  '5,181',\n",
       "  '1,379',\n",
       "  '40',\n",
       "  '1,168',\n",
       "  '1',\n",
       "  '751',\n",
       "  '10,283'],\n",
       " ['Bennett', '688', '7', '730', '207', '2', '204', '', '186', '1,838'],\n",
       " ['Bon Homme', '876', '12', '2,394', '485', '', '232', '', '284', '3,999'],\n",
       " ['Brookings',\n",
       "  '5,102',\n",
       "  '110',\n",
       "  '10,063',\n",
       "  '3,648',\n",
       "  '22',\n",
       "  '2,840',\n",
       "  '1',\n",
       "  '1573',\n",
       "  '21,786'],\n",
       " ['Brown',\n",
       "  '7,211',\n",
       "  '102',\n",
       "  '12,997',\n",
       "  '3,586',\n",
       "  '11',\n",
       "  '1,986',\n",
       "  '3',\n",
       "  '1098',\n",
       "  '25,896'],\n",
       " ['Brule', '893', '14', '1,765', '460', '4', '221', '', '166', '3,357'],\n",
       " ['Buffalo', '533', '2', '154', '76', '4', '100', '', '116', '869'],\n",
       " ['Butte', '778', '56', '4,628', '880', '20', '651', '', '1331', '7,013'],\n",
       " ['Campbell', '104', '1', '920', '75', '', '44', '', '72', '1,144'],\n",
       " ['Charles Mix', '1,776', '9', '2,726', '586', '', '353', '', '439', '5,450'],\n",
       " ['Clark', '530', '4', '1,655', '260', '', '157', '', '137', '2,606'],\n",
       " ['Clay',\n",
       "  '2,897',\n",
       "  '38',\n",
       "  '3,068',\n",
       "  '1,452',\n",
       "  '12',\n",
       "  '1,153',\n",
       "  '5',\n",
       "  '1220',\n",
       "  '8,625'],\n",
       " ['Codington',\n",
       "  '3,848',\n",
       "  '62',\n",
       "  '10,553',\n",
       "  '2,612',\n",
       "  '27',\n",
       "  '1,938',\n",
       "  '',\n",
       "  '1578',\n",
       "  '19,040'],\n",
       " ['Corson', '970', '5', '752', '284', '3', '297', '', '227', '2,311'],\n",
       " ['Custer', '1,051', '39', '5,180', '1,119', '24', '685', '1', '974', '8,099'],\n",
       " ['Davison',\n",
       "  '2,769',\n",
       "  '31',\n",
       "  '6,909',\n",
       "  '1,903',\n",
       "  '34',\n",
       "  '1,516',\n",
       "  '4',\n",
       "  '1252',\n",
       "  '13,166'],\n",
       " ['Day', '1,244', '12', '1,923', '584', '1', '168', '', '220', '3,932'],\n",
       " ['Deuel', '587', '11', '1,775', '483', '', '289', '1', '119', '3,146'],\n",
       " ['Dewey', '1,788', '4', '779', '428', '2', '412', '', '227', '3,413'],\n",
       " ['Douglas', '200', '1', '1,666', '140', '', '102', '', '108', '2,109'],\n",
       " ['Edmunds', '507', '7', '1,781', '255', '2', '182', '', '140', '2,734'],\n",
       " ['Fall River', '889', '39', '3,977', '904', '2', '684', '1', '391', '6,496'],\n",
       " ['Faulk', '189', '', '1,126', '218', '', '41', '', '58', '1,574'],\n",
       " ['Grant', '1,039', '18', '2,749', '706', '9', '368', '', '333', '4,889'],\n",
       " ['Gregory', '611', '4', '1,860', '343', '', '86', '', '151', '2,904'],\n",
       " ['Haakon', '116', '2', '1,177', '85', '2', '30', '2', '61', '1,414'],\n",
       " ['Hamlin', '536', '7', '3,098', '380', '1', '269', '', '214', '4,291'],\n",
       " ['Hand', '391', '8', '1,661', '187', '4', '55', '', '84', '2,306'],\n",
       " ['Hanson', '591', '6', '1,885', '494', '7', '371', '', '484', '3,354'],\n",
       " ['Harding', '62', '6', '841', '76', '1', '43', '', '49', '1,029'],\n",
       " ['Hughes',\n",
       "  '2,148',\n",
       "  '47',\n",
       "  '7,381',\n",
       "  '1,418',\n",
       "  '19',\n",
       "  '969',\n",
       "  '',\n",
       "  '1023',\n",
       "  '11,982'],\n",
       " ['Hutchinson', '710', '15', '3,442', '529', '8', '335', '', '201', '5,039'],\n",
       " ['Hyde', '147', '1', '660', '94', '', '31', '', '42', '933'],\n",
       " ['Jackson', '581', '6', '905', '166', '1', '163', '', '128', '1,822'],\n",
       " ['Jerauld', '324', '6', '727', '130', '1', '69', '', '68', '1,257'],\n",
       " ['Jones', '62', '1', '524', '58', '', '27', '1', '51', '673'],\n",
       " ['Kingsbury', '657', '8', '2,316', '389', '3', '325', '', '271', '3,698'],\n",
       " ['Lake', '1,904', '25', '4,367', '967', '5', '617', '2', '2123', '7,887'],\n",
       " ['Lawrence',\n",
       "  '3,947',\n",
       "  '179',\n",
       "  '12,323',\n",
       "  '3,291',\n",
       "  '42',\n",
       "  '2,734',\n",
       "  '7',\n",
       "  '2376',\n",
       "  '22,523'],\n",
       " ['Lincoln',\n",
       "  '10,175',\n",
       "  '233',\n",
       "  '25,875',\n",
       "  '7,810',\n",
       "  '79',\n",
       "  '5,349',\n",
       "  '13',\n",
       "  '4910',\n",
       "  '49,534'],\n",
       " ['Lyman', '655', '4', '1,162', '218', '1', '165', '', '108', '2,205'],\n",
       " ['Marshall', '953', '2', '1,310', '379', '2', '175', '', '162', '2,821'],\n",
       " ['McCook', '797', '7', '2,407', '518', '3', '269', '', '145', '4,001'],\n",
       " ['McPherson', '187', '8', '1,334', '134', '', '71', '', '159', '1,734'],\n",
       " ['Meade',\n",
       "  '2,812',\n",
       "  '155',\n",
       "  '13,033',\n",
       "  '2,861',\n",
       "  '24',\n",
       "  '2,147',\n",
       "  '2',\n",
       "  '1610',\n",
       "  '21,034'],\n",
       " ['Mellette', '412', '1', '500', '191', '', '69', '', '67', '1,173'],\n",
       " ['Miner', '426', '5', '850', '232', '', '117', '', '79', '1,630'],\n",
       " ['Minnehaha',\n",
       "  '36,180',\n",
       "  '741',\n",
       "  '59,490',\n",
       "  '22,692',\n",
       "  '255',\n",
       "  '18,828',\n",
       "  '17',\n",
       "  '16930',\n",
       "  '138,203'],\n",
       " ['Moody', '1,306', '15', '1,955', '704', '4', '424', '2', '204', '4,410'],\n",
       " ['Oglala Lakota',\n",
       "  '5,291',\n",
       "  '18',\n",
       "  '609',\n",
       "  '995',\n",
       "  '1',\n",
       "  '1,253',\n",
       "  '',\n",
       "  '615',\n",
       "  '8,167'],\n",
       " ['Pennington',\n",
       "  '18,056',\n",
       "  '682',\n",
       "  '46,938',\n",
       "  '13,300',\n",
       "  '224',\n",
       "  '12,197',\n",
       "  '27',\n",
       "  '9821',\n",
       "  '91,424'],\n",
       " ['Perkins', '259', '4', '1,562', '196', '4', '159', '', '178', '2,184'],\n",
       " ['Potter', '180', '2', '1,353', '108', '5', '41', '1', '140', '1,690'],\n",
       " ['Roberts', '2,378', '9', '2,269', '935', '19', '626', '', '470', '6,236'],\n",
       " ['Sanborn', '353', '7', '992', '166', '', '123', '1', '59', '1,642'],\n",
       " ['Spink', '992', '8', '2,573', '453', '3', '235', '', '199', '4,264'],\n",
       " ['Stanley', '333', '7', '1,590', '192', '', '124', '', '199', '2,246'],\n",
       " ['Sully', '159', '4', '839', '109', '', '36', '', '68', '1,147'],\n",
       " ['Todd', '2,735', '7', '656', '580', '5', '554', '', '759', '4,537'],\n",
       " ['Tripp', '559', '6', '2,457', '351', '7', '230', '', '366', '3,610'],\n",
       " ['Turner', '1,122', '15', '3,675', '902', '2', '381', '', '225', '6,097'],\n",
       " ['Union',\n",
       "  '2,312',\n",
       "  '44',\n",
       "  '6,664',\n",
       "  '2,217',\n",
       "  '9',\n",
       "  '1,495',\n",
       "  '2',\n",
       "  '2184',\n",
       "  '12,743'],\n",
       " ['Walworth', '577', '9', '2,479', '336', '11', '263', '', '463', '3,675'],\n",
       " ['Yankton',\n",
       "  '3,473',\n",
       "  '60',\n",
       "  '7,517',\n",
       "  '2,551',\n",
       "  '17',\n",
       "  '1,342',\n",
       "  '1',\n",
       "  '1546',\n",
       "  '14,961'],\n",
       " ['Ziebach', '740', '5', '433', '174', '1', '253', '', '93', '1,606'],\n",
       " ['Total',\n",
       "  '145,681',\n",
       "  '2,991',\n",
       "  '320,127',\n",
       "  '90,874',\n",
       "  '991',\n",
       "  '68,942',\n",
       "  '95',\n",
       "  '62,188',\n",
       "  '629,701'],\n",
       " [\"Independent (IND) / No Party Affiliation (NPA) – South Dakota does not have an Independent Party. If a person completes a registration card to change that person's name,\\naddress, phone number, or email address, and leaves the field for party affiliation blank, the county auditor must list the person's party affiliation as the most recent party affiliation\\nregistered for that person. If a person completes a registration card to register to vote for the first time in the state and leaves the field for party affiliation blank, the county auditor must\\nregister that person's party affiliation as no party affiliation.\",\n",
       "  None,\n",
       "  None,\n",
       "  None,\n",
       "  None,\n",
       "  None,\n",
       "  None,\n",
       "  None,\n",
       "  None],\n",
       " ['SDCL 12-1-3 (22) and SDCL 12-4-5',\n",
       "  None,\n",
       "  None,\n",
       "  None,\n",
       "  None,\n",
       "  None,\n",
       "  None,\n",
       "  None,\n",
       "  None],\n",
       " ['OTHER – This category is for voters who write any other political party on their voter registration form that is not currently a recognized political party in South Dakota.',\n",
       "  None,\n",
       "  None,\n",
       "  None,\n",
       "  None,\n",
       "  None,\n",
       "  None,\n",
       "  None,\n",
       "  None],\n",
       " ['NOTE - The South Dakota Democratic Party has opened their primary election up for all voters registered as independent/no party affiliation to vote in their primary. Voters registered\\nin the “other” category are not allowed to vote in the SD Democratic Party primary.',\n",
       "  None,\n",
       "  None,\n",
       "  None,\n",
       "  None,\n",
       "  None,\n",
       "  None,\n",
       "  None,\n",
       "  None],\n",
       " ['The Libertarian Party became a recognized party on June 17, 2016.',\n",
       "  None,\n",
       "  None,\n",
       "  None,\n",
       "  None,\n",
       "  None,\n",
       "  None,\n",
       "  None,\n",
       "  None],\n",
       " ['The Constitution Party became a recognized party on March 31, 2016. By statutes SDCL 12-5-1.5 and 12-1-3, the Constitution Party lost party status on November 14, 2018. The No\\nLabels Party became a recognized party on August 4, 2023.',\n",
       "  None,\n",
       "  None,\n",
       "  None,\n",
       "  None,\n",
       "  None,\n",
       "  None,\n",
       "  None,\n",
       "  None]]"
      ]
     },
     "execution_count": 6,
     "metadata": {},
     "output_type": "execute_result"
    }
   ],
   "source": [
    "lines"
   ]
  },
  {
   "cell_type": "code",
   "execution_count": 7,
   "id": "e6cd53a9-2f58-402a-9b1a-5e5c9b3046dd",
   "metadata": {},
   "outputs": [],
   "source": [
    "# report date is in the first line\n",
    "report_date = lines.pop(0)"
   ]
  },
  {
   "cell_type": "code",
   "execution_count": 8,
   "id": "9b5d3f66-568d-4d26-a0f4-d8600ae0af9e",
   "metadata": {},
   "outputs": [
    {
     "name": "stdout",
     "output_type": "stream",
     "text": [
      "2025-03-03\n"
     ]
    }
   ],
   "source": [
    "report_date = report_date[0].split('-')[-1].strip()\n",
    "report_date = datetime.strptime(report_date, '%B %d, %Y').date().isoformat()\n",
    "\n",
    "print(report_date)"
   ]
  },
  {
   "cell_type": "code",
   "execution_count": 9,
   "id": "6fdeee0c-061a-4977-8194-8e88e8a8deee",
   "metadata": {},
   "outputs": [
    {
     "name": "stdout",
     "output_type": "stream",
     "text": [
      "Wrote /Users/cjwinchester/sd-voter-registration-data/pdfs/2025-03-03.pdf\n"
     ]
    }
   ],
   "source": [
    "# save the PDF\n",
    "outpath = (Path('pdfs') / f'{report_date}.pdf').resolve()\n",
    "\n",
    "with open(outpath, 'wb') as outfile:\n",
    "    outfile.write(req.content)\n",
    "\n",
    "print(f'Wrote {outpath}')"
   ]
  },
  {
   "cell_type": "code",
   "execution_count": 10,
   "id": "2e5d21b2-be5d-4d9e-998c-d01c4df2af11",
   "metadata": {},
   "outputs": [],
   "source": [
    "# standardizing column names\n",
    "column_fixes = {\n",
    "    'oth': 'other',\n",
    "    'no party\\naffiliation': 'npa',\n",
    "    'no labels': 'no_labels',\n",
    "    'npa/ind': 'npa_ind'\n",
    "}"
   ]
  },
  {
   "cell_type": "code",
   "execution_count": 11,
   "id": "2be7ac8a-fe25-403d-a49b-9bd91ff4639b",
   "metadata": {},
   "outputs": [],
   "source": [
    "# headers are in the first line of the data table\n",
    "headers = lines.pop(0)\n",
    "headers = [column_fixes.get(x.lower(), x.lower()) for x in headers]"
   ]
  },
  {
   "cell_type": "code",
   "execution_count": 12,
   "id": "b8f74e2e-38b0-46d3-9de5-fa9d344a43d7",
   "metadata": {},
   "outputs": [
    {
     "data": {
      "text/plain": [
       "['county',\n",
       " 'democratic',\n",
       " 'libertarian',\n",
       " 'republican',\n",
       " 'independent',\n",
       " 'other',\n",
       " 'npa',\n",
       " 'no_labels',\n",
       " 'inactive',\n",
       " 'total active']"
      ]
     },
     "execution_count": 12,
     "metadata": {},
     "output_type": "execute_result"
    }
   ],
   "source": [
    "headers"
   ]
  },
  {
   "cell_type": "code",
   "execution_count": 13,
   "id": "87b4e954-d9ec-49b8-b6e3-fc53040bce60",
   "metadata": {
    "scrolled": true
   },
   "outputs": [],
   "source": [
    "data = []\n",
    "\n",
    "# loop over the remaining lines\n",
    "for line in lines:\n",
    "\n",
    "    first_cell = line[0].lower()\n",
    "\n",
    "    # skip lines if repeated headers\n",
    "    if 'statewide' in first_cell or 'county' in first_cell:\n",
    "        continue\n",
    "\n",
    "    # the 'Total' line in the table means we're done\n",
    "    if 'total' in first_cell:\n",
    "        break\n",
    "\n",
    "    # check that the number of values matches the number of headers\n",
    "    assert(len(line) == len(headers))\n",
    "\n",
    "    # zip it up into a dict\n",
    "    county_data = dict(zip(headers, line))\n",
    "\n",
    "    # delete the aggregate value totaling everything up\n",
    "    del county_data['total active']\n",
    "\n",
    "    # cast number strings to integers\n",
    "    for key in county_data:\n",
    "        if key == 'county' or not county_data[key]:\n",
    "            continue\n",
    "\n",
    "        county_data[key] = int(county_data[key].replace(',', ''))\n",
    "\n",
    "    # add the report date\n",
    "    county_data['date'] = report_date\n",
    "    data.append(county_data)"
   ]
  },
  {
   "cell_type": "code",
   "execution_count": 14,
   "id": "6571d1b4-ba88-4b3b-9fce-0f9cdd6721d1",
   "metadata": {},
   "outputs": [],
   "source": [
    "# doublecheck: 66 counties in SD\n",
    "assert(len(data) == 66)"
   ]
  },
  {
   "cell_type": "code",
   "execution_count": 15,
   "id": "25fe47d7-bd47-46f5-b4bf-b2972e761421",
   "metadata": {},
   "outputs": [
    {
     "data": {
      "text/plain": [
       "{'county': 'Aurora',\n",
       " 'democratic': 515,\n",
       " 'libertarian': 2,\n",
       " 'republican': 987,\n",
       " 'independent': 233,\n",
       " 'other': 2,\n",
       " 'npa': 101,\n",
       " 'no_labels': '',\n",
       " 'inactive': 103,\n",
       " 'date': '2025-03-03'}"
      ]
     },
     "execution_count": 15,
     "metadata": {},
     "output_type": "execute_result"
    }
   ],
   "source": [
    "data[0]"
   ]
  },
  {
   "cell_type": "code",
   "execution_count": 16,
   "id": "1cb251c3-ef9f-4898-9bc7-02b3230b52b9",
   "metadata": {},
   "outputs": [],
   "source": [
    "# shift 'date' to the beginning of headers list for the output CSV\n",
    "csv_headers = list(data[0].keys())\n",
    "csv_headers = csv_headers[-1:] + csv_headers[:-1]"
   ]
  },
  {
   "cell_type": "code",
   "execution_count": 17,
   "id": "1ddeeb67-a213-45bc-bffe-10b25ebad375",
   "metadata": {},
   "outputs": [
    {
     "name": "stdout",
     "output_type": "stream",
     "text": [
      "Wrote file: /Users/cjwinchester/sd-voter-registration-data/data/2025-03-03.csv\n"
     ]
    }
   ],
   "source": [
    "# write to file\n",
    "filepath = (Path('data') / f'{report_date}.csv').resolve()\n",
    "\n",
    "with open(filepath, 'w') as outfile:\n",
    "    writer = csv.DictWriter(\n",
    "        outfile,\n",
    "        fieldnames=csv_headers\n",
    "    )\n",
    "\n",
    "    writer.writeheader()\n",
    "    writer.writerows(data)\n",
    "\n",
    "    print(f'Wrote file: {filepath}')"
   ]
  },
  {
   "cell_type": "code",
   "execution_count": 18,
   "id": "d7b2a96f-de03-4cb9-b420-620aea8e3f46",
   "metadata": {},
   "outputs": [
    {
     "name": "stdout",
     "output_type": "stream",
     "text": [
      "Party list: americans_elect, constitution, democratic, inactive, independent, libertarian, no_labels, npa, npa_ind, npa_ind_oth, other, reform, republican\n",
      "--------------------\n",
      "Wrote sd-voter-registration-data.csv\n",
      "Wrote sd-voter-registration-data-simplified.csv\n",
      "Wrote README.md\n"
     ]
    }
   ],
   "source": [
    "%run build_files.py"
   ]
  },
  {
   "cell_type": "code",
   "execution_count": null,
   "id": "d4bf0181-950a-46e7-8686-0ff0fc90064e",
   "metadata": {},
   "outputs": [],
   "source": []
  }
 ],
 "metadata": {
  "kernelspec": {
   "display_name": "Python 3 (ipykernel)",
   "language": "python",
   "name": "python3"
  },
  "language_info": {
   "codemirror_mode": {
    "name": "ipython",
    "version": 3
   },
   "file_extension": ".py",
   "mimetype": "text/x-python",
   "name": "python",
   "nbconvert_exporter": "python",
   "pygments_lexer": "ipython3",
   "version": "3.12.9"
  }
 },
 "nbformat": 4,
 "nbformat_minor": 5
}
