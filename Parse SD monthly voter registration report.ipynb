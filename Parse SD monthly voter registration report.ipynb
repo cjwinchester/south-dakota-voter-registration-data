{
 "cells": [
  {
   "cell_type": "markdown",
   "id": "6507088a-306a-47d1-97f7-57f3d07ad247",
   "metadata": {},
   "source": [
    "# Parse SD monthly voter registration report\n",
    "\n",
    "Uses:\n",
    "- `requests` to get the PDF from [the Secretary of State's website](https://sdsos.gov/elections-voting/upcoming-elections/voter-registration-totals/voter-registration-by-county.aspx)\n",
    "- `pdfplumber` to parse and validate the data"
   ]
  },
  {
   "cell_type": "code",
   "execution_count": 30,
   "id": "b2b53d3d-b352-40e3-9e9f-b8af14d72735",
   "metadata": {},
   "outputs": [],
   "source": [
    "from io import BytesIO\n",
    "from datetime import datetime\n",
    "import csv\n",
    "from pathlib import Path\n",
    "\n",
    "import requests\n",
    "import pdfplumber"
   ]
  },
  {
   "cell_type": "code",
   "execution_count": 31,
   "id": "3c20d214-6797-4301-bdc4-037cff26fb60",
   "metadata": {},
   "outputs": [],
   "source": [
    "url = 'https://sdsos.gov/elections-voting/assets/StatewideVoterRegistrationTotals/StatewideVotersByCounty_7.1.2025.pdf'\n",
    "req = requests.get(url)"
   ]
  },
  {
   "cell_type": "code",
   "execution_count": 32,
   "id": "be80d888-da26-44bb-baa4-226bfc0314d1",
   "metadata": {},
   "outputs": [],
   "source": [
    "pdf = pdfplumber.open(BytesIO(req.content))"
   ]
  },
  {
   "cell_type": "code",
   "execution_count": 33,
   "id": "75b29825-8e5d-4a99-9bc4-5d5eb05a678b",
   "metadata": {},
   "outputs": [],
   "source": [
    "# assumes a 2-page PDF with a table spanning both pages\n",
    "if len(pdf.pages) != 2:\n",
    "    raise Exception(f'Report page count is {len(pdf.pages)}, not 2 -- check it out: {url}')"
   ]
  },
  {
   "cell_type": "code",
   "execution_count": 34,
   "id": "00eae6d5-a16b-4d97-94aa-1a6d632b2eb7",
   "metadata": {},
   "outputs": [],
   "source": [
    "lines = pdf.pages[0].extract_table() + pdf.pages[1].extract_table()\n",
    "\n",
    "# guarding against some PDFs parsed with an extra column\n",
    "lines = [x[:-1] if not x[-1] else x for x in lines]"
   ]
  },
  {
   "cell_type": "code",
   "execution_count": 35,
   "id": "fcabf216-1de9-4626-8ce4-395e59da2bc7",
   "metadata": {
    "scrolled": true
   },
   "outputs": [
    {
     "data": {
      "text/plain": [
       "[['Statewide Report by County - July 1, 2025',\n",
       "  None,\n",
       "  None,\n",
       "  None,\n",
       "  None,\n",
       "  None,\n",
       "  None,\n",
       "  None,\n",
       "  None],\n",
       " ['County',\n",
       "  'Democratic',\n",
       "  'Libertarian',\n",
       "  'Republican',\n",
       "  'Independent',\n",
       "  'OTH',\n",
       "  'No Party\\nAffiliation',\n",
       "  'No Labels',\n",
       "  'Inactive',\n",
       "  'Total Active'],\n",
       " ['Aurora', '509', '2', '1,003', '232', '2', '101', '', '40', '1,849'],\n",
       " ['Beadle',\n",
       "  '2,472',\n",
       "  '27',\n",
       "  '5,224',\n",
       "  '1,375',\n",
       "  '41',\n",
       "  '1,204',\n",
       "  '1',\n",
       "  '742',\n",
       "  '10,344'],\n",
       " ['Bennett', '667', '8', '728', '193', '2', '200', '', '172', '1,798'],\n",
       " ['Bon Homme', '874', '11', '2,426', '491', '', '240', '', '163', '4,042'],\n",
       " ['Brookings',\n",
       "  '5,105',\n",
       "  '108',\n",
       "  '10,131',\n",
       "  '3,669',\n",
       "  '21',\n",
       "  '2,870',\n",
       "  '1',\n",
       "  '836',\n",
       "  '21,905'],\n",
       " ['Brown',\n",
       "  '7,133',\n",
       "  '104',\n",
       "  '13,045',\n",
       "  '3,594',\n",
       "  '12',\n",
       "  '2,011',\n",
       "  '3',\n",
       "  '379',\n",
       "  '25,902'],\n",
       " ['Brule', '881', '12', '1,781', '465', '4', '221', '', '82', '3,364'],\n",
       " ['Buffalo', '531', '2', '154', '76', '4', '101', '', '116', '868'],\n",
       " ['Butte', '764', '55', '4,654', '872', '21', '665', '', '868', '7,031'],\n",
       " ['Campbell', '103', '1', '914', '74', '', '49', '', '72', '1,141'],\n",
       " ['Charles Mix', '1,762', '9', '2,739', '593', '', '364', '1', '435', '5,468'],\n",
       " ['Clark', '527', '4', '1,664', '260', '', '171', '', '136', '2,626'],\n",
       " ['Clay', '2,902', '36', '3,084', '1,463', '14', '1,154', '5', '569', '8,658'],\n",
       " ['Codington',\n",
       "  '3,819',\n",
       "  '60',\n",
       "  '10,652',\n",
       "  '2,630',\n",
       "  '25',\n",
       "  '2,045',\n",
       "  '',\n",
       "  '1063',\n",
       "  '19,231'],\n",
       " ['Corson', '964', '5', '762', '284', '3', '311', '', '225', '2,329'],\n",
       " ['Custer', '1,044', '37', '5,230', '1,135', '25', '698', '1', '497', '8,170'],\n",
       " ['Davison',\n",
       "  '2,763',\n",
       "  '32',\n",
       "  '6,967',\n",
       "  '1,911',\n",
       "  '32',\n",
       "  '1,537',\n",
       "  '4',\n",
       "  '1242',\n",
       "  '13,246'],\n",
       " ['Day', '1,231', '12', '1,933', '585', '1', '172', '', '103', '3,934'],\n",
       " ['Deuel', '580', '10', '1,781', '491', '', '297', '1', '40', '3,160'],\n",
       " ['Dewey', '1,789', '4', '784', '428', '3', '424', '', '134', '3,432'],\n",
       " ['Douglas', '201', '1', '1,671', '139', '', '107', '', '106', '2,119'],\n",
       " ['Edmunds', '499', '7', '1,792', '248', '2', '208', '', '61', '2,756'],\n",
       " ['Fall River', '885', '39', '3,998', '898', '2', '730', '1', '284', '6,553'],\n",
       " ['Faulk', '185', '', '1,122', '218', '', '41', '', '39', '1,566'],\n",
       " ['Grant', '1,031', '19', '2,754', '714', '9', '385', '', '332', '4,912'],\n",
       " ['Gregory', '608', '4', '1,874', '346', '', '89', '', '87', '2,921'],\n",
       " ['Haakon', '111', '2', '1,169', '80', '2', '32', '3', '28', '1,399'],\n",
       " ['Hamlin', '540', '7', '3,098', '382', '1', '288', '', '108', '4,316'],\n",
       " ['Hand', '373', '8', '1,648', '186', '4', '54', '', '49', '2,273'],\n",
       " ['Hanson', '587', '6', '1,917', '496', '8', '388', '', '131', '3,402'],\n",
       " ['Harding', '61', '6', '838', '76', '1', '45', '', '11', '1,027'],\n",
       " ['Hughes', '2,152', '49', '7,396', '1,424', '19', '997', '', '552', '12,037'],\n",
       " ['Hutchinson', '704', '15', '3,450', '535', '8', '343', '', '87', '5,055'],\n",
       " ['Hyde', '149', '1', '661', '97', '', '32', '', '16', '940'],\n",
       " ['Jackson', '578', '6', '914', '173', '1', '176', '', '129', '1,848'],\n",
       " ['Jerauld', '323', '6', '735', '131', '1', '75', '', '66', '1,271'],\n",
       " ['Jones', '64', '1', '523', '59', '', '26', '1', '38', '674'],\n",
       " ['Kingsbury', '650', '8', '2,331', '393', '3', '337', '', '121', '3,722'],\n",
       " ['Lake', '1,896', '25', '4,391', '966', '5', '629', '2', '2121', '7,914'],\n",
       " ['Lawrence',\n",
       "  '3,971',\n",
       "  '179',\n",
       "  '12,467',\n",
       "  '3,352',\n",
       "  '43',\n",
       "  '2,850',\n",
       "  '7',\n",
       "  '1027',\n",
       "  '22,869'],\n",
       " ['Lincoln',\n",
       "  '10,199',\n",
       "  '229',\n",
       "  '26,138',\n",
       "  '7,913',\n",
       "  '82',\n",
       "  '5,483',\n",
       "  '13',\n",
       "  '2625',\n",
       "  '50,057'],\n",
       " ['Lyman', '645', '4', '1,170', '214', '1', '174', '', '45', '2,208'],\n",
       " ['Marshall', '945', '2', '1,328', '383', '2', '179', '', '162', '2,839'],\n",
       " ['McCook', '795', '8', '2,410', '520', '4', '271', '', '76', '4,008'],\n",
       " ['McPherson', '176', '8', '1,310', '123', '1', '68', '', '77', '1,686'],\n",
       " ['Meade',\n",
       "  '2,807',\n",
       "  '156',\n",
       "  '13,155',\n",
       "  '2,872',\n",
       "  '26',\n",
       "  '2,185',\n",
       "  '3',\n",
       "  '643',\n",
       "  '21,204'],\n",
       " ['Mellette', '416', '1', '501', '193', '', '72', '', '67', '1,183'],\n",
       " ['Miner', '420', '5', '857', '228', '', '116', '', '78', '1,626'],\n",
       " ['Minnehaha',\n",
       "  '36,170',\n",
       "  '743',\n",
       "  '59,893',\n",
       "  '22,831',\n",
       "  '244',\n",
       "  '19,176',\n",
       "  '15',\n",
       "  '8456',\n",
       "  '139,072'],\n",
       " ['Moody', '1,291', '16', '1,987', '704', '4', '438', '2', '202', '4,442'],\n",
       " ['Oglala Lakota',\n",
       "  '5,275',\n",
       "  '18',\n",
       "  '602',\n",
       "  '989',\n",
       "  '1',\n",
       "  '1,272',\n",
       "  '',\n",
       "  '392',\n",
       "  '8,157'],\n",
       " ['Pennington',\n",
       "  '18,080',\n",
       "  '684',\n",
       "  '47,318',\n",
       "  '13,412',\n",
       "  '222',\n",
       "  '12,325',\n",
       "  '28',\n",
       "  '5301',\n",
       "  '92,069'],\n",
       " ['Perkins', '256', '4', '1,578', '192', '4', '162', '', '103', '2,196'],\n",
       " ['Potter', '181', '1', '1,348', '112', '5', '46', '1', '139', '1,694'],\n",
       " ['Roberts', '2,360', '9', '2,282', '942', '17', '649', '', '234', '6,259'],\n",
       " ['Sanborn', '350', '7', '1,001', '164', '', '126', '1', '30', '1,649'],\n",
       " ['Spink', '974', '8', '2,574', '458', '3', '237', '', '98', '4,254'],\n",
       " ['Stanley', '328', '7', '1,595', '198', '', '124', '', '118', '2,252'],\n",
       " ['Sully', '158', '5', '848', '111', '', '39', '', '41', '1,161'],\n",
       " ['Todd', '2,755', '7', '678', '595', '6', '573', '', '401', '4,614'],\n",
       " ['Tripp', '554', '5', '2,458', '347', '7', '230', '', '210', '3,601'],\n",
       " ['Turner', '1,119', '15', '3,695', '903', '2', '386', '', '109', '6,120'],\n",
       " ['Union',\n",
       "  '2,307',\n",
       "  '44',\n",
       "  '6,715',\n",
       "  '2,229',\n",
       "  '9',\n",
       "  '1,514',\n",
       "  '2',\n",
       "  '963',\n",
       "  '12,820'],\n",
       " ['Walworth', '579', '11', '2,485', '337', '11', '289', '', '215', '3,712'],\n",
       " ['Yankton',\n",
       "  '3,424',\n",
       "  '59',\n",
       "  '7,544',\n",
       "  '2,541',\n",
       "  '17',\n",
       "  '1,364',\n",
       "  '1',\n",
       "  '780',\n",
       "  '14,950'],\n",
       " ['Ziebach', '737', '5', '430', '175', '1', '252', '', '49', '1,600'],\n",
       " ['Total',\n",
       "  '145,289',\n",
       "  '2,989',\n",
       "  '322,305',\n",
       "  '91,420',\n",
       "  '988',\n",
       "  '70,417',\n",
       "  '97',\n",
       "  '34,921',\n",
       "  '633,505'],\n",
       " [\"Independent (IND) / No Party Affiliation (NPA) – South Dakota does not have an Independent Party. If a person completes a registration card to change that person's name,\\naddress, phone number, or email address, and leaves the field for party affiliation blank, the county auditor must list the person's party affiliation as the most recent party affiliation\\nregistered for that person. If a person completes a registration card to register to vote for the first time in the state and leaves the field for party affiliation blank, the county auditor must\\nregister that person's party affiliation as no party affiliation.\",\n",
       "  None,\n",
       "  None,\n",
       "  None,\n",
       "  None,\n",
       "  None,\n",
       "  None,\n",
       "  None,\n",
       "  None],\n",
       " ['SDCL 12-1-3 (22) and SDCL 12-4-5',\n",
       "  None,\n",
       "  None,\n",
       "  None,\n",
       "  None,\n",
       "  None,\n",
       "  None,\n",
       "  None,\n",
       "  None],\n",
       " ['OTHER – This category is for voters who write any other political party on their voter registration form that is not currently a recognized political party in South Dakota.',\n",
       "  None,\n",
       "  None,\n",
       "  None,\n",
       "  None,\n",
       "  None,\n",
       "  None,\n",
       "  None,\n",
       "  None],\n",
       " ['NOTE - The South Dakota Democratic Party has opened their primary election up for all voters registered as independent/no party affiliation to vote in their primary. Voters registered\\nin the “other” category are not allowed to vote in the SD Democratic Party primary.',\n",
       "  None,\n",
       "  None,\n",
       "  None,\n",
       "  None,\n",
       "  None,\n",
       "  None,\n",
       "  None,\n",
       "  None],\n",
       " ['The Libertarian Party became a recognized party on June 17, 2016.',\n",
       "  None,\n",
       "  None,\n",
       "  None,\n",
       "  None,\n",
       "  None,\n",
       "  None,\n",
       "  None,\n",
       "  None],\n",
       " ['The Constitution Party became a recognized party on March 31, 2016. By statutes SDCL 12-5-1.5 and 12-1-3, the Constitution Party lost party status on November 14, 2018. The No\\nLabels Party became a recognized party on August 4, 2023.',\n",
       "  None,\n",
       "  None,\n",
       "  None,\n",
       "  None,\n",
       "  None,\n",
       "  None,\n",
       "  None,\n",
       "  None]]"
      ]
     },
     "execution_count": 35,
     "metadata": {},
     "output_type": "execute_result"
    }
   ],
   "source": [
    "lines"
   ]
  },
  {
   "cell_type": "code",
   "execution_count": 36,
   "id": "e6cd53a9-2f58-402a-9b1a-5e5c9b3046dd",
   "metadata": {},
   "outputs": [],
   "source": [
    "# report date is in the first line\n",
    "report_date = lines.pop(0)"
   ]
  },
  {
   "cell_type": "code",
   "execution_count": 37,
   "id": "9b5d3f66-568d-4d26-a0f4-d8600ae0af9e",
   "metadata": {},
   "outputs": [
    {
     "name": "stdout",
     "output_type": "stream",
     "text": [
      "2025-07-01\n"
     ]
    }
   ],
   "source": [
    "report_date = report_date[0].split('-')[-1].strip()\n",
    "report_date = datetime.strptime(report_date, '%B %d, %Y').date().isoformat()\n",
    "\n",
    "print(report_date)"
   ]
  },
  {
   "cell_type": "code",
   "execution_count": 38,
   "id": "6fdeee0c-061a-4977-8194-8e88e8a8deee",
   "metadata": {},
   "outputs": [
    {
     "name": "stdout",
     "output_type": "stream",
     "text": [
      "Wrote pdfs/2025-07-01.pdf\n"
     ]
    }
   ],
   "source": [
    "# save the PDF\n",
    "outpath = Path('pdfs') / f'{report_date}.pdf'\n",
    "\n",
    "with open(outpath, 'wb') as outfile:\n",
    "    outfile.write(req.content)\n",
    "\n",
    "print(f'Wrote {outpath}')"
   ]
  },
  {
   "cell_type": "code",
   "execution_count": 39,
   "id": "2e5d21b2-be5d-4d9e-998c-d01c4df2af11",
   "metadata": {},
   "outputs": [],
   "source": [
    "# standardizing column names\n",
    "column_fixes = {\n",
    "    'oth': 'other',\n",
    "    'no party\\naffiliation': 'npa',\n",
    "    'no labels': 'no_labels',\n",
    "    'npa/ind': 'npa_ind'\n",
    "}"
   ]
  },
  {
   "cell_type": "code",
   "execution_count": 40,
   "id": "2be7ac8a-fe25-403d-a49b-9bd91ff4639b",
   "metadata": {},
   "outputs": [],
   "source": [
    "# headers are in the first line of the data table\n",
    "headers = lines.pop(0)\n",
    "headers = [column_fixes.get(x.lower(), x.lower()) for x in headers]"
   ]
  },
  {
   "cell_type": "code",
   "execution_count": 41,
   "id": "b8f74e2e-38b0-46d3-9de5-fa9d344a43d7",
   "metadata": {},
   "outputs": [
    {
     "data": {
      "text/plain": [
       "['county',\n",
       " 'democratic',\n",
       " 'libertarian',\n",
       " 'republican',\n",
       " 'independent',\n",
       " 'other',\n",
       " 'npa',\n",
       " 'no_labels',\n",
       " 'inactive',\n",
       " 'total active']"
      ]
     },
     "execution_count": 41,
     "metadata": {},
     "output_type": "execute_result"
    }
   ],
   "source": [
    "headers"
   ]
  },
  {
   "cell_type": "code",
   "execution_count": 42,
   "id": "87b4e954-d9ec-49b8-b6e3-fc53040bce60",
   "metadata": {
    "scrolled": true
   },
   "outputs": [],
   "source": [
    "data = []\n",
    "\n",
    "# loop over the remaining lines\n",
    "for line in lines:\n",
    "\n",
    "    first_cell = line[0].lower()\n",
    "\n",
    "    # skip lines if repeated headers\n",
    "    if 'statewide' in first_cell or 'county' in first_cell:\n",
    "        continue\n",
    "\n",
    "    # the 'Total' line in the table means we're done\n",
    "    if 'total' in first_cell:\n",
    "        break\n",
    "\n",
    "    # check that the number of values matches the number of headers\n",
    "    assert(len(line) == len(headers))\n",
    "\n",
    "    # zip it up into a dict\n",
    "    county_data = dict(zip(headers, line))\n",
    "\n",
    "    # delete the aggregate value totaling everything up\n",
    "    del county_data['total active']\n",
    "\n",
    "    # cast number strings to integers\n",
    "    for key in county_data:\n",
    "        if key == 'county' or not county_data[key]:\n",
    "            continue\n",
    "\n",
    "        county_data[key] = int(county_data[key].replace(',', ''))\n",
    "\n",
    "    # add the report date\n",
    "    county_data['date'] = report_date\n",
    "    data.append(county_data)"
   ]
  },
  {
   "cell_type": "code",
   "execution_count": 43,
   "id": "6571d1b4-ba88-4b3b-9fce-0f9cdd6721d1",
   "metadata": {},
   "outputs": [],
   "source": [
    "# doublecheck: 66 counties in SD\n",
    "assert(len(data) == 66)"
   ]
  },
  {
   "cell_type": "code",
   "execution_count": 44,
   "id": "25fe47d7-bd47-46f5-b4bf-b2972e761421",
   "metadata": {},
   "outputs": [
    {
     "data": {
      "text/plain": [
       "{'county': 'Aurora',\n",
       " 'democratic': 509,\n",
       " 'libertarian': 2,\n",
       " 'republican': 1003,\n",
       " 'independent': 232,\n",
       " 'other': 2,\n",
       " 'npa': 101,\n",
       " 'no_labels': '',\n",
       " 'inactive': 40,\n",
       " 'date': '2025-07-01'}"
      ]
     },
     "execution_count": 44,
     "metadata": {},
     "output_type": "execute_result"
    }
   ],
   "source": [
    "data[0]"
   ]
  },
  {
   "cell_type": "code",
   "execution_count": 45,
   "id": "1cb251c3-ef9f-4898-9bc7-02b3230b52b9",
   "metadata": {},
   "outputs": [],
   "source": [
    "# shift 'date' to the beginning of headers list for the output CSV\n",
    "csv_headers = list(data[0].keys())\n",
    "csv_headers = csv_headers[-1:] + csv_headers[:-1]"
   ]
  },
  {
   "cell_type": "code",
   "execution_count": 46,
   "id": "1ddeeb67-a213-45bc-bffe-10b25ebad375",
   "metadata": {},
   "outputs": [
    {
     "name": "stdout",
     "output_type": "stream",
     "text": [
      "Wrote file: /Users/cjwinchester/south-dakota-voter-registration-data/data/2025-07-01.csv\n"
     ]
    }
   ],
   "source": [
    "# write to file\n",
    "filepath = (Path('data') / f'{report_date}.csv').resolve()\n",
    "\n",
    "with open(filepath, 'w') as outfile:\n",
    "    writer = csv.DictWriter(\n",
    "        outfile,\n",
    "        fieldnames=csv_headers\n",
    "    )\n",
    "\n",
    "    writer.writeheader()\n",
    "    writer.writerows(data)\n",
    "\n",
    "    print(f'Wrote file: {filepath}')"
   ]
  },
  {
   "cell_type": "code",
   "execution_count": 47,
   "id": "d7b2a96f-de03-4cb9-b420-620aea8e3f46",
   "metadata": {},
   "outputs": [
    {
     "name": "stdout",
     "output_type": "stream",
     "text": [
      "Party list: americans_elect, constitution, democratic, inactive, independent, libertarian, no_labels, npa, npa_ind, npa_ind_oth, other, reform, republican\n",
      "--------------------\n",
      "Wrote sd-voter-registration-data.csv\n",
      "Wrote sd-voter-registration-data-simplified.csv\n",
      "Wrote README.md\n"
     ]
    }
   ],
   "source": [
    "%run build_files.py"
   ]
  }
 ],
 "metadata": {
  "kernelspec": {
   "display_name": "Python 3 (ipykernel)",
   "language": "python",
   "name": "python3"
  },
  "language_info": {
   "codemirror_mode": {
    "name": "ipython",
    "version": 3
   },
   "file_extension": ".py",
   "mimetype": "text/x-python",
   "name": "python",
   "nbconvert_exporter": "python",
   "pygments_lexer": "ipython3",
   "version": "3.12.10"
  }
 },
 "nbformat": 4,
 "nbformat_minor": 5
}
