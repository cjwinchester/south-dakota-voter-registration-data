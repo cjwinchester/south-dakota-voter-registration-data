{
 "cells": [
  {
   "cell_type": "markdown",
   "id": "6507088a-306a-47d1-97f7-57f3d07ad247",
   "metadata": {},
   "source": [
    "# Parse SD monthly voter registration report\n",
    "\n",
    "Uses:\n",
    "- `requests` to get the PDF from [the Secretary of State's website](https://sdsos.gov/elections-voting/upcoming-elections/voter-registration-totals/voter-registration-by-county.aspx)\n",
    "- `pdfplumber` to parse and validate the data"
   ]
  },
  {
   "cell_type": "code",
   "execution_count": 1,
   "id": "b2b53d3d-b352-40e3-9e9f-b8af14d72735",
   "metadata": {},
   "outputs": [],
   "source": [
    "from io import BytesIO\n",
    "from datetime import datetime\n",
    "import csv\n",
    "from pathlib import Path\n",
    "\n",
    "import requests\n",
    "import pdfplumber"
   ]
  },
  {
   "cell_type": "code",
   "execution_count": 2,
   "id": "3c20d214-6797-4301-bdc4-037cff26fb60",
   "metadata": {},
   "outputs": [],
   "source": [
    "url = 'https://sdsos.gov/elections-voting/assets/StatewideVoterRegistrationTotals/StatewideVotersByCounty_4.1.2025.pdf'\n",
    "req = requests.get(url)"
   ]
  },
  {
   "cell_type": "code",
   "execution_count": 3,
   "id": "be80d888-da26-44bb-baa4-226bfc0314d1",
   "metadata": {},
   "outputs": [],
   "source": [
    "pdf = pdfplumber.open(BytesIO(req.content))"
   ]
  },
  {
   "cell_type": "code",
   "execution_count": 4,
   "id": "75b29825-8e5d-4a99-9bc4-5d5eb05a678b",
   "metadata": {},
   "outputs": [],
   "source": [
    "# assumes a 2-page PDF with a table spanning both pages\n",
    "if len(pdf.pages) != 2:\n",
    "    raise Exception(f'Report page count is {len(pdf.pages)}, not 2 -- check it out: {url}')"
   ]
  },
  {
   "cell_type": "code",
   "execution_count": 5,
   "id": "00eae6d5-a16b-4d97-94aa-1a6d632b2eb7",
   "metadata": {},
   "outputs": [],
   "source": [
    "lines = pdf.pages[0].extract_table() + pdf.pages[1].extract_table()\n",
    "\n",
    "# guarding against some PDFs parsed with an extra column\n",
    "lines = [x[:-1] if not x[-1] else x for x in lines]"
   ]
  },
  {
   "cell_type": "code",
   "execution_count": 6,
   "id": "fcabf216-1de9-4626-8ce4-395e59da2bc7",
   "metadata": {
    "scrolled": true
   },
   "outputs": [
    {
     "data": {
      "text/plain": [
       "[['Statewide Report by County -April 1, 2025',\n",
       "  None,\n",
       "  None,\n",
       "  None,\n",
       "  None,\n",
       "  None,\n",
       "  None,\n",
       "  None,\n",
       "  None],\n",
       " ['County',\n",
       "  'Democratic',\n",
       "  'Libertarian',\n",
       "  'Republican',\n",
       "  'Independent',\n",
       "  'OTH',\n",
       "  'No Party\\nAffiliation',\n",
       "  'No Labels',\n",
       "  'Inactive',\n",
       "  'Total Active'],\n",
       " ['Aurora', '514', '2', '997', '232', '2', '100', '', '103', '1,847'],\n",
       " ['Beadle',\n",
       "  '2,485',\n",
       "  '26',\n",
       "  '5,195',\n",
       "  '1,382',\n",
       "  '40',\n",
       "  '1,184',\n",
       "  '1',\n",
       "  '750',\n",
       "  '10,313'],\n",
       " ['Bennett', '682', '7', '735', '203', '2', '202', '', '185', '1,831'],\n",
       " ['Bon Homme', '874', '12', '2,410', '488', '', '235', '', '284', '4,019'],\n",
       " ['Brookings',\n",
       "  '5,093',\n",
       "  '111',\n",
       "  '10,066',\n",
       "  '3,658',\n",
       "  '22',\n",
       "  '2,854',\n",
       "  '1',\n",
       "  '1569',\n",
       "  '21,805'],\n",
       " ['Brown',\n",
       "  '7,180',\n",
       "  '104',\n",
       "  '13,028',\n",
       "  '3,589',\n",
       "  '11',\n",
       "  '1,988',\n",
       "  '3',\n",
       "  '1092',\n",
       "  '25,903'],\n",
       " ['Brule', '889', '14', '1,768', '459', '4', '220', '', '166', '3,354'],\n",
       " ['Buffalo', '533', '2', '153', '76', '4', '100', '', '116', '868'],\n",
       " ['Butte', '774', '56', '4,636', '876', '21', '653', '', '1331', '7,016'],\n",
       " ['Campbell', '103', '1', '918', '75', '', '47', '', '72', '1,144'],\n",
       " ['Charles Mix', '1,772', '9', '2,733', '588', '', '355', '', '439', '5,457'],\n",
       " ['Clark', '528', '4', '1,659', '262', '', '161', '', '137', '2,614'],\n",
       " ['Clay',\n",
       "  '2,896',\n",
       "  '37',\n",
       "  '3,072',\n",
       "  '1,457',\n",
       "  '13',\n",
       "  '1,156',\n",
       "  '5',\n",
       "  '1216',\n",
       "  '8,636'],\n",
       " ['Codington',\n",
       "  '3,834',\n",
       "  '62',\n",
       "  '10,568',\n",
       "  '2,620',\n",
       "  '26',\n",
       "  '1,960',\n",
       "  '',\n",
       "  '1569',\n",
       "  '19,070'],\n",
       " ['Corson', '967', '5', '755', '285', '3', '300', '', '227', '2,315'],\n",
       " ['Custer', '1,049', '37', '5,193', '1,120', '24', '693', '1', '974', '8,117'],\n",
       " ['Davison',\n",
       "  '2,763',\n",
       "  '32',\n",
       "  '6,922',\n",
       "  '1,905',\n",
       "  '34',\n",
       "  '1,526',\n",
       "  '4',\n",
       "  '1249',\n",
       "  '13,186'],\n",
       " ['Day', '1,242', '12', '1,930', '587', '1', '170', '', '218', '3,942'],\n",
       " ['Deuel', '584', '11', '1,777', '489', '', '292', '1', '119', '3,154'],\n",
       " ['Dewey', '1,781', '4', '779', '426', '2', '415', '', '225', '3,407'],\n",
       " ['Douglas', '200', '1', '1,665', '140', '', '103', '', '108', '2,109'],\n",
       " ['Edmunds', '503', '7', '1,783', '252', '2', '197', '', '140', '2,744'],\n",
       " ['Fall River', '886', '39', '3,985', '903', '2', '693', '1', '393', '6,509'],\n",
       " ['Faulk', '188', '', '1,126', '217', '', '41', '', '58', '1,572'],\n",
       " ['Grant', '1,038', '18', '2,744', '706', '9', '367', '', '333', '4,882'],\n",
       " ['Gregory', '611', '4', '1,867', '345', '', '86', '', '151', '2,913'],\n",
       " ['Haakon', '114', '2', '1,174', '83', '2', '29', '2', '61', '1,406'],\n",
       " ['Hamlin', '537', '7', '3,093', '380', '1', '271', '', '212', '4,289'],\n",
       " ['Hand', '385', '8', '1,665', '187', '4', '54', '', '81', '2,303'],\n",
       " ['Hanson', '592', '6', '1,899', '491', '7', '374', '', '484', '3,369'],\n",
       " ['Harding', '62', '6', '840', '77', '1', '44', '', '46', '1,030'],\n",
       " ['Hughes',\n",
       "  '2,147',\n",
       "  '47',\n",
       "  '7,382',\n",
       "  '1,422',\n",
       "  '19',\n",
       "  '975',\n",
       "  '',\n",
       "  '1019',\n",
       "  '11,992'],\n",
       " ['Hutchinson', '709', '15', '3,446', '529', '8', '335', '', '199', '5,042'],\n",
       " ['Hyde', '148', '1', '660', '94', '', '31', '', '42', '934'],\n",
       " ['Jackson', '577', '6', '915', '170', '1', '167', '', '129', '1,836'],\n",
       " ['Jerauld', '325', '6', '730', '130', '1', '69', '', '67', '1,261'],\n",
       " ['Jones', '63', '1', '522', '58', '', '26', '1', '51', '671'],\n",
       " ['Kingsbury', '656', '8', '2,317', '389', '3', '328', '', '270', '3,701'],\n",
       " ['Lake', '1,902', '26', '4,370', '970', '5', '622', '2', '2122', '7,897'],\n",
       " ['Lawrence',\n",
       "  '3,942',\n",
       "  '178',\n",
       "  '12,334',\n",
       "  '3,293',\n",
       "  '44',\n",
       "  '2,752',\n",
       "  '7',\n",
       "  '2376',\n",
       "  '22,550'],\n",
       " ['Lincoln',\n",
       "  '10,174',\n",
       "  '232',\n",
       "  '25,933',\n",
       "  '7,841',\n",
       "  '79',\n",
       "  '5,387',\n",
       "  '13',\n",
       "  '4901',\n",
       "  '49,659'],\n",
       " ['Lyman', '649', '4', '1,167', '216', '1', '164', '', '111', '2,201'],\n",
       " ['Marshall', '948', '2', '1,316', '378', '2', '177', '', '162', '2,823'],\n",
       " ['McCook', '797', '7', '2,408', '518', '3', '269', '', '145', '4,002'],\n",
       " ['McPherson', '185', '8', '1,324', '131', '1', '71', '', '122', '1,720'],\n",
       " ['Meade',\n",
       "  '2,809',\n",
       "  '156',\n",
       "  '13,059',\n",
       "  '2,863',\n",
       "  '25',\n",
       "  '2,155',\n",
       "  '2',\n",
       "  '1607',\n",
       "  '21,069'],\n",
       " ['Mellette', '412', '1', '498', '189', '', '72', '', '66', '1,172'],\n",
       " ['Miner', '424', '5', '852', '231', '', '116', '', '79', '1,628'],\n",
       " ['Minnehaha',\n",
       "  '36,172',\n",
       "  '738',\n",
       "  '59,578',\n",
       "  '22,741',\n",
       "  '251',\n",
       "  '18,928',\n",
       "  '17',\n",
       "  '16898',\n",
       "  '138,425'],\n",
       " ['Moody', '1,305', '15', '1,960', '707', '4', '423', '2', '203', '4,416'],\n",
       " ['Oglala Lakota',\n",
       "  '5,286',\n",
       "  '18',\n",
       "  '607',\n",
       "  '992',\n",
       "  '1',\n",
       "  '1,258',\n",
       "  '',\n",
       "  '615',\n",
       "  '8,162'],\n",
       " ['Pennington',\n",
       "  '18,068',\n",
       "  '685',\n",
       "  '47,032',\n",
       "  '13,320',\n",
       "  '220',\n",
       "  '12,218',\n",
       "  '27',\n",
       "  '9822',\n",
       "  '91,570'],\n",
       " ['Perkins', '258', '4', '1,573', '195', '4', '160', '', '178', '2,194'],\n",
       " ['Potter', '182', '2', '1,352', '112', '5', '42', '1', '139', '1,696'],\n",
       " ['Roberts', '2,379', '9', '2,269', '938', '18', '627', '', '470', '6,240'],\n",
       " ['Sanborn', '352', '7', '990', '166', '', '125', '1', '59', '1,641'],\n",
       " ['Spink', '984', '8', '2,571', '454', '3', '236', '', '198', '4,256'],\n",
       " ['Stanley', '332', '7', '1,586', '194', '', '125', '', '192', '2,244'],\n",
       " ['Sully', '158', '4', '840', '110', '', '36', '', '68', '1,148'],\n",
       " ['Todd', '2,753', '7', '680', '592', '6', '573', '', '731', '4,611'],\n",
       " ['Tripp', '558', '5', '2,456', '349', '7', '233', '', '366', '3,608'],\n",
       " ['Turner', '1,119', '15', '3,673', '901', '2', '377', '', '225', '6,087'],\n",
       " ['Union',\n",
       "  '2,313',\n",
       "  '44',\n",
       "  '6,683',\n",
       "  '2,221',\n",
       "  '9',\n",
       "  '1,497',\n",
       "  '2',\n",
       "  '2177',\n",
       "  '12,769'],\n",
       " ['Walworth', '576', '9', '2,483', '335', '11', '274', '', '463', '3,688'],\n",
       " ['Yankton',\n",
       "  '3,469',\n",
       "  '60',\n",
       "  '7,517',\n",
       "  '2,539',\n",
       "  '17',\n",
       "  '1,353',\n",
       "  '1',\n",
       "  '1535',\n",
       "  '14,956'],\n",
       " ['Ziebach', '738', '5', '432', '175', '1', '252', '', '93', '1,603'],\n",
       " ['Total',\n",
       "  '145,528',\n",
       "  '2,991',\n",
       "  '320,650',\n",
       "  '91,021',\n",
       "  '988',\n",
       "  '69,323',\n",
       "  '95',\n",
       "  '62,008',\n",
       "  '630,596'],\n",
       " [\"Independent (IND) / No Party Affiliation (NPA) – South Dakota does not have an Independent Party. If a person completes a registration card to change that person's name,\\naddress, phone number, or email address, and leaves the field for party affiliation blank, the county auditor must list the person's party affiliation as the most recent party affiliation\\nregistered for that person. If a person completes a registration card to register to vote for the first time in the state and leaves the field for party affiliation blank, the county auditor must\\nregister that person's party affiliation as no party affiliation.\",\n",
       "  None,\n",
       "  None,\n",
       "  None,\n",
       "  None,\n",
       "  None,\n",
       "  None,\n",
       "  None,\n",
       "  None],\n",
       " ['SDCL 12-1-3 (22) and SDCL 12-4-5',\n",
       "  None,\n",
       "  None,\n",
       "  None,\n",
       "  None,\n",
       "  None,\n",
       "  None,\n",
       "  None,\n",
       "  None],\n",
       " ['OTHER – This category is for voters who write any other political party on their voter registration form that is not currently a recognized political party in South Dakota.',\n",
       "  None,\n",
       "  None,\n",
       "  None,\n",
       "  None,\n",
       "  None,\n",
       "  None,\n",
       "  None,\n",
       "  None],\n",
       " ['NOTE - The South Dakota Democratic Party has opened their primary election up for all voters registered as independent/no party affiliation to vote in their primary. Voters registered\\nin the “other” category are not allowed to vote in the SD Democratic Party primary.',\n",
       "  None,\n",
       "  None,\n",
       "  None,\n",
       "  None,\n",
       "  None,\n",
       "  None,\n",
       "  None,\n",
       "  None],\n",
       " ['The Libertarian Party became a recognized party on June 17, 2016.',\n",
       "  None,\n",
       "  None,\n",
       "  None,\n",
       "  None,\n",
       "  None,\n",
       "  None,\n",
       "  None,\n",
       "  None],\n",
       " ['The Constitution Party became a recognized party on March 31, 2016. By statutes SDCL 12-5-1.5 and 12-1-3, the Constitution Party lost party status on November 14, 2018. The No\\nLabels Party became a recognized party on August 4, 2023.',\n",
       "  None,\n",
       "  None,\n",
       "  None,\n",
       "  None,\n",
       "  None,\n",
       "  None,\n",
       "  None,\n",
       "  None]]"
      ]
     },
     "execution_count": 6,
     "metadata": {},
     "output_type": "execute_result"
    }
   ],
   "source": [
    "lines"
   ]
  },
  {
   "cell_type": "code",
   "execution_count": 7,
   "id": "e6cd53a9-2f58-402a-9b1a-5e5c9b3046dd",
   "metadata": {},
   "outputs": [],
   "source": [
    "# report date is in the first line\n",
    "report_date = lines.pop(0)"
   ]
  },
  {
   "cell_type": "code",
   "execution_count": 8,
   "id": "9b5d3f66-568d-4d26-a0f4-d8600ae0af9e",
   "metadata": {},
   "outputs": [
    {
     "name": "stdout",
     "output_type": "stream",
     "text": [
      "2025-04-01\n"
     ]
    }
   ],
   "source": [
    "report_date = report_date[0].split('-')[-1].strip()\n",
    "report_date = datetime.strptime(report_date, '%B %d, %Y').date().isoformat()\n",
    "\n",
    "print(report_date)"
   ]
  },
  {
   "cell_type": "code",
   "execution_count": 9,
   "id": "6fdeee0c-061a-4977-8194-8e88e8a8deee",
   "metadata": {},
   "outputs": [
    {
     "name": "stdout",
     "output_type": "stream",
     "text": [
      "Wrote /Users/laurelwinchester/south-dakota-voter-registration-data/pdfs/2025-04-01.pdf\n"
     ]
    }
   ],
   "source": [
    "# save the PDF\n",
    "outpath = (Path('pdfs') / f'{report_date}.pdf').resolve()\n",
    "\n",
    "with open(outpath, 'wb') as outfile:\n",
    "    outfile.write(req.content)\n",
    "\n",
    "print(f'Wrote {outpath}')"
   ]
  },
  {
   "cell_type": "code",
   "execution_count": 10,
   "id": "2e5d21b2-be5d-4d9e-998c-d01c4df2af11",
   "metadata": {},
   "outputs": [],
   "source": [
    "# standardizing column names\n",
    "column_fixes = {\n",
    "    'oth': 'other',\n",
    "    'no party\\naffiliation': 'npa',\n",
    "    'no labels': 'no_labels',\n",
    "    'npa/ind': 'npa_ind'\n",
    "}"
   ]
  },
  {
   "cell_type": "code",
   "execution_count": 11,
   "id": "2be7ac8a-fe25-403d-a49b-9bd91ff4639b",
   "metadata": {},
   "outputs": [],
   "source": [
    "# headers are in the first line of the data table\n",
    "headers = lines.pop(0)\n",
    "headers = [column_fixes.get(x.lower(), x.lower()) for x in headers]"
   ]
  },
  {
   "cell_type": "code",
   "execution_count": 12,
   "id": "b8f74e2e-38b0-46d3-9de5-fa9d344a43d7",
   "metadata": {},
   "outputs": [
    {
     "data": {
      "text/plain": [
       "['county',\n",
       " 'democratic',\n",
       " 'libertarian',\n",
       " 'republican',\n",
       " 'independent',\n",
       " 'other',\n",
       " 'npa',\n",
       " 'no_labels',\n",
       " 'inactive',\n",
       " 'total active']"
      ]
     },
     "execution_count": 12,
     "metadata": {},
     "output_type": "execute_result"
    }
   ],
   "source": [
    "headers"
   ]
  },
  {
   "cell_type": "code",
   "execution_count": 13,
   "id": "87b4e954-d9ec-49b8-b6e3-fc53040bce60",
   "metadata": {
    "scrolled": true
   },
   "outputs": [],
   "source": [
    "data = []\n",
    "\n",
    "# loop over the remaining lines\n",
    "for line in lines:\n",
    "\n",
    "    first_cell = line[0].lower()\n",
    "\n",
    "    # skip lines if repeated headers\n",
    "    if 'statewide' in first_cell or 'county' in first_cell:\n",
    "        continue\n",
    "\n",
    "    # the 'Total' line in the table means we're done\n",
    "    if 'total' in first_cell:\n",
    "        break\n",
    "\n",
    "    # check that the number of values matches the number of headers\n",
    "    assert(len(line) == len(headers))\n",
    "\n",
    "    # zip it up into a dict\n",
    "    county_data = dict(zip(headers, line))\n",
    "\n",
    "    # delete the aggregate value totaling everything up\n",
    "    del county_data['total active']\n",
    "\n",
    "    # cast number strings to integers\n",
    "    for key in county_data:\n",
    "        if key == 'county' or not county_data[key]:\n",
    "            continue\n",
    "\n",
    "        county_data[key] = int(county_data[key].replace(',', ''))\n",
    "\n",
    "    # add the report date\n",
    "    county_data['date'] = report_date\n",
    "    data.append(county_data)"
   ]
  },
  {
   "cell_type": "code",
   "execution_count": 14,
   "id": "6571d1b4-ba88-4b3b-9fce-0f9cdd6721d1",
   "metadata": {},
   "outputs": [],
   "source": [
    "# doublecheck: 66 counties in SD\n",
    "assert(len(data) == 66)"
   ]
  },
  {
   "cell_type": "code",
   "execution_count": 15,
   "id": "25fe47d7-bd47-46f5-b4bf-b2972e761421",
   "metadata": {},
   "outputs": [
    {
     "data": {
      "text/plain": [
       "{'county': 'Aurora',\n",
       " 'democratic': 514,\n",
       " 'libertarian': 2,\n",
       " 'republican': 997,\n",
       " 'independent': 232,\n",
       " 'other': 2,\n",
       " 'npa': 100,\n",
       " 'no_labels': '',\n",
       " 'inactive': 103,\n",
       " 'date': '2025-04-01'}"
      ]
     },
     "execution_count": 15,
     "metadata": {},
     "output_type": "execute_result"
    }
   ],
   "source": [
    "data[0]"
   ]
  },
  {
   "cell_type": "code",
   "execution_count": 16,
   "id": "1cb251c3-ef9f-4898-9bc7-02b3230b52b9",
   "metadata": {},
   "outputs": [],
   "source": [
    "# shift 'date' to the beginning of headers list for the output CSV\n",
    "csv_headers = list(data[0].keys())\n",
    "csv_headers = csv_headers[-1:] + csv_headers[:-1]"
   ]
  },
  {
   "cell_type": "code",
   "execution_count": 17,
   "id": "1ddeeb67-a213-45bc-bffe-10b25ebad375",
   "metadata": {},
   "outputs": [
    {
     "name": "stdout",
     "output_type": "stream",
     "text": [
      "Wrote file: /Users/laurelwinchester/south-dakota-voter-registration-data/data/2025-04-01.csv\n"
     ]
    }
   ],
   "source": [
    "# write to file\n",
    "filepath = (Path('data') / f'{report_date}.csv').resolve()\n",
    "\n",
    "with open(filepath, 'w') as outfile:\n",
    "    writer = csv.DictWriter(\n",
    "        outfile,\n",
    "        fieldnames=csv_headers\n",
    "    )\n",
    "\n",
    "    writer.writeheader()\n",
    "    writer.writerows(data)\n",
    "\n",
    "    print(f'Wrote file: {filepath}')"
   ]
  },
  {
   "cell_type": "code",
   "execution_count": 18,
   "id": "d7b2a96f-de03-4cb9-b420-620aea8e3f46",
   "metadata": {},
   "outputs": [
    {
     "name": "stdout",
     "output_type": "stream",
     "text": [
      "Party list: americans_elect, constitution, democratic, inactive, independent, libertarian, no_labels, npa, npa_ind, npa_ind_oth, other, reform, republican\n",
      "--------------------\n",
      "Wrote sd-voter-registration-data.csv\n",
      "Wrote sd-voter-registration-data-simplified.csv\n",
      "Wrote README.md\n"
     ]
    }
   ],
   "source": [
    "%run build_files.py"
   ]
  }
 ],
 "metadata": {
  "kernelspec": {
   "display_name": "Python 3 (ipykernel)",
   "language": "python",
   "name": "python3"
  },
  "language_info": {
   "codemirror_mode": {
    "name": "ipython",
    "version": 3
   },
   "file_extension": ".py",
   "mimetype": "text/x-python",
   "name": "python",
   "nbconvert_exporter": "python",
   "pygments_lexer": "ipython3",
   "version": "3.13.2"
  }
 },
 "nbformat": 4,
 "nbformat_minor": 5
}
